{
 "cells": [
  {
   "cell_type": "code",
   "execution_count": 2,
   "metadata": {},
   "outputs": [],
   "source": [
    "import pandas as pd\n",
    "import numpy as np\n",
    "\n",
    "import seaborn as sns\n",
    "import plotly.express as px"
   ]
  },
  {
   "cell_type": "code",
   "execution_count": 5,
   "metadata": {},
   "outputs": [],
   "source": [
    "general_informations = pd.read_excel(\"../../data/ExtendedNuclearData.xlsx\", sheet_name=\"General\")\n",
    "\n",
    "CISF_VARIABLE_COSTS = general_informations[\"value\"][0]\n",
    "REACTOR_VARIABLE_COSTS = general_informations[\"value\"][3]"
   ]
  },
  {
   "cell_type": "code",
   "execution_count": 3,
   "metadata": {},
   "outputs": [],
   "source": [
    "HC_BUILDING_COSTS = 300000000\n",
    "HOT_CELL_COSTS = 2000000\n",
    "\n",
    "CISF_BUILDING_COSTS = {\"small\": 96444026.38,\n",
    "                       \"medium\": 142844431.51,\n",
    "                       \"large\": 189244836.64}"
   ]
  },
  {
   "cell_type": "code",
   "execution_count": null,
   "metadata": {},
   "outputs": [],
   "source": [
    "reactors = pd.read_csv(\"../../data/output_data/reactor_operating.csv\")\n",
    "snf_s = pd.read_csv(\"../../data/output_data/snf_stored.csv\")\n",
    "nc_s = pd.read_csv(\"../../data/output_data/nc_stored.csv\")"
   ]
  }
 ],
 "metadata": {
  "kernelspec": {
   "display_name": "Python 3",
   "language": "python",
   "name": "python3"
  },
  "language_info": {
   "codemirror_mode": {
    "name": "ipython",
    "version": 3
   },
   "file_extension": ".py",
   "mimetype": "text/x-python",
   "name": "python",
   "nbconvert_exporter": "python",
   "pygments_lexer": "ipython3",
   "version": "3.12.3"
  }
 },
 "nbformat": 4,
 "nbformat_minor": 2
}
