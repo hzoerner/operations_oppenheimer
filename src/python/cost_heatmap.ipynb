{
 "cells": [
  {
   "cell_type": "code",
   "execution_count": 1,
   "metadata": {},
   "outputs": [],
   "source": [
    "import pandas as pd\n",
    "import numpy as np\n",
    "\n",
    "import plotly.express as px\n",
    "\n",
    "import yaml\n",
    "import seaborn as sns\n",
    "import matplotlib.pyplot as plt\n",
    "import plotly.io as pio\n",
    "\n",
    "pio.renderers.default = \"vscode\""
   ]
  },
  {
   "cell_type": "code",
   "execution_count": 2,
   "metadata": {},
   "outputs": [],
   "source": [
    "distances = pd.read_excel(\"../../data/ExtendedNuclearData.xlsx\", sheet_name=\"Transport\")"
   ]
  },
  {
   "cell_type": "code",
   "execution_count": 3,
   "metadata": {},
   "outputs": [],
   "source": [
    "distances_dict = dict()\n",
    "for idx, row in distances[distances[\"is_possible\"] != 0].iterrows():\n",
    "    org = row[\"from\"]\n",
    "    dest = row[\"to\"]\n",
    "\n",
    "    dist = row[\"costs\"]\n",
    "\n",
    "    if org in distances_dict.keys():\n",
    "        relations_from_org = distances_dict[org]\n",
    "        relations_from_org[dest] = dist\n",
    "    else:\n",
    "        relations_from_org = dict()\n",
    "        relations_from_org[dest] = dist\n",
    "        distances_dict[org] = relations_from_org"
   ]
  },
  {
   "cell_type": "code",
   "execution_count": 4,
   "metadata": {},
   "outputs": [],
   "source": [
    "with open('../parameter_config.yaml', 'r') as file:\n",
    "    config_data = yaml.safe_load(file)"
   ]
  },
  {
   "cell_type": "code",
   "execution_count": 5,
   "metadata": {},
   "outputs": [],
   "source": [
    "transport_costs_per_km = config_data[\"transport_costs\"][\"cost_factor\"]\n",
    "transport_factor = config_data[\"transport_costs\"][\"nuclear_factor\"]"
   ]
  },
  {
   "cell_type": "code",
   "execution_count": 6,
   "metadata": {},
   "outputs": [],
   "source": [
    "construction_costs = config_data[\"cisf\"][\"versions\"]\n",
    "versions = dict()\n",
    "\n",
    "for cisf_dict in construction_costs:\n",
    "    k = cisf_dict[\"size\"]\n",
    "    v = cisf_dict[\"costs\"]\n",
    "    versions[k] = v"
   ]
  },
  {
   "cell_type": "code",
   "execution_count": 7,
   "metadata": {},
   "outputs": [],
   "source": [
    "snf_dict = {}\n",
    "nc_dict = {}\n",
    "cisf_dict = {}\n",
    "hc_dict = {}\n",
    "for n_hc in config_data[\"hot_cells\"][\"max_count\"]:\n",
    "    for n_cisf in config_data[\"cisf\"][\"count\"]:\n",
    "        if n_hc is None:\n",
    "            n_hc = \"nothing\"\n",
    "        if n_cisf is None:\n",
    "            n_cisf = \"nothing\"\n",
    "        snf = pd.read_csv(f\"../../storage/n_hc_{n_hc}/n_cisf_{n_cisf}/snf_shipped.csv\")\n",
    "        nc = pd.read_csv(f\"../../storage/n_hc_{n_hc}/n_cisf_{n_cisf}/nc_shipped.csv\")\n",
    "        cisf = pd.read_csv(f\"../../storage/n_hc_{n_hc}/n_cisf_{n_cisf}/cisf_build.csv\")\n",
    "        hc = pd.read_csv(f\"../../storage/n_hc_{n_hc}/n_cisf_{n_cisf}/hc_build.csv\")\n",
    "\n",
    "        snf_dict[f\"n_hc_{n_hc}-n_cisf_{n_cisf}\"] = snf\n",
    "        nc_dict[f\"n_hc_{n_hc}-n_cisf_{n_cisf}\"] = nc\n",
    "        cisf_dict[f\"n_hc_{n_hc}-n_cisf_{n_cisf}\"] = cisf\n",
    "        hc_dict[f\"n_hc_{n_hc}-n_cisf_{n_cisf}\"] = hc"
   ]
  },
  {
   "cell_type": "markdown",
   "metadata": {},
   "source": [
    "##### Transport costs"
   ]
  },
  {
   "cell_type": "code",
   "execution_count": 8,
   "metadata": {},
   "outputs": [],
   "source": [
    "def calculate_transport_costs(snf, nc):\n",
    "    snf_shipped = snf[snf[\"SNF\"] != 0]\n",
    "    nc_shipped = nc[nc[\"NC\"] != 0]\n",
    "\n",
    "    shipped = pd.concat([snf_shipped.rename(columns={\"SNF\": \"amount\"}), nc_shipped.rename(columns={\"NC\": \"amount\"})])\n",
    "\n",
    "    distances[\"key\"] = distances[\"from\"] + distances[\"to\"]\n",
    "    shipped[\"key\"] = shipped[\"from\"] + shipped[\"to\"]\n",
    "\n",
    "    shipped = pd.merge(left=shipped, left_on=\"key\", right=distances.drop(columns=[\"from\", \"to\", \"is_possible\"]), right_on=\"key\", how=\"left\").drop(columns=\"key\")\n",
    "    shipped[\"transport_costs\"] = shipped[\"costs\"] * shipped[\"amount\"] * transport_costs_per_km * transport_factor\n",
    "\n",
    "    total_transport_costs = np.sum(shipped[\"transport_costs\"])\n",
    "\n",
    "    return total_transport_costs"
   ]
  },
  {
   "cell_type": "markdown",
   "metadata": {},
   "source": [
    "##### CISF costs"
   ]
  },
  {
   "cell_type": "code",
   "execution_count": 9,
   "metadata": {},
   "outputs": [],
   "source": [
    "def calculate_cisf_costs(cisf):\n",
    "    built = cisf[cisf[\"build\"] == 1]\n",
    "\n",
    "    versions_built = built.groupby(by=\"size\", as_index=False).agg(n = (\"build\", \"sum\"))\n",
    "\n",
    "    total_cisf_construction_costs = 0\n",
    "\n",
    "    for idx, row in versions_built.iterrows():\n",
    "        total_cisf_construction_costs += row[\"n\"] * versions[row[\"size\"]]\n",
    "    \n",
    "    return total_cisf_construction_costs"
   ]
  },
  {
   "cell_type": "markdown",
   "metadata": {},
   "source": [
    "##### Hot Cell costs"
   ]
  },
  {
   "cell_type": "code",
   "execution_count": 10,
   "metadata": {},
   "outputs": [],
   "source": [
    "def calculate_hc_costs(hc, nc):\n",
    "    hc_construction_cost = config_data[\"hot_cells\"][\"construction_cost\"]\n",
    "    processing_cost = config_data[\"hot_cells\"][\"processing_cost\"]\n",
    "\n",
    "    total_hc_construction_cost = sum(hc[\"build\"]) * hc_construction_cost[0]\n",
    "    \n",
    "    nc_shipped = nc[nc[\"NC\"] != 0]\n",
    "    total_processing_costs = np.sum(nc_shipped[\"NC\"]) * processing_cost\n",
    "\n",
    "    return total_hc_construction_cost, total_processing_costs"
   ]
  },
  {
   "cell_type": "markdown",
   "metadata": {},
   "source": [
    "##### Plotting"
   ]
  },
  {
   "cell_type": "code",
   "execution_count": 30,
   "metadata": {},
   "outputs": [],
   "source": [
    "# Prepare data for the heatmap\n",
    "data = []\n",
    "\n",
    "for n_hc in config_data[\"hot_cells\"][\"max_count\"]:\n",
    "    for n_cisf in config_data[\"cisf\"][\"count\"]:\n",
    "        if n_hc is None:\n",
    "            n_hc = \"nothing\"\n",
    "        if n_cisf is None:\n",
    "            n_cisf = \"nothing\"\n",
    "\n",
    "            \n",
    "        key = f\"n_hc_{n_hc}-n_cisf_{n_cisf}\"\n",
    "        snf = snf_dict[key]\n",
    "        nc = nc_dict[key]\n",
    "        cisf = cisf_dict[key]\n",
    "        hc = hc_dict[key]\n",
    "        \n",
    "        total_costs = (\n",
    "            calculate_transport_costs(snf, nc) +\n",
    "            calculate_cisf_costs(cisf) +\n",
    "            sum(calculate_hc_costs(hc, nc))\n",
    "        )\n",
    "        \n",
    "        data.append({\n",
    "            \"n_hc\": n_hc,\n",
    "            \"n_cisf\": n_cisf,\n",
    "            \"total_costs\": total_costs,\n",
    "            \"transport_costs\": calculate_transport_costs(snf, nc),\n",
    "            \"cisf_costs\": calculate_cisf_costs(cisf),\n",
    "            \"hc_costs\": sum(calculate_hc_costs(hc, nc))\n",
    "        })\n",
    "\n",
    "# Convert to DataFrame\n",
    "df = pd.DataFrame(data)"
   ]
  },
  {
   "cell_type": "code",
   "execution_count": 31,
   "metadata": {},
   "outputs": [
    {
     "data": {
      "text/html": [
       "<div>\n",
       "<style scoped>\n",
       "    .dataframe tbody tr th:only-of-type {\n",
       "        vertical-align: middle;\n",
       "    }\n",
       "\n",
       "    .dataframe tbody tr th {\n",
       "        vertical-align: top;\n",
       "    }\n",
       "\n",
       "    .dataframe thead th {\n",
       "        text-align: right;\n",
       "    }\n",
       "</style>\n",
       "<table border=\"1\" class=\"dataframe\">\n",
       "  <thead>\n",
       "    <tr style=\"text-align: right;\">\n",
       "      <th></th>\n",
       "      <th>n_hc</th>\n",
       "      <th>n_cisf</th>\n",
       "      <th>total_costs</th>\n",
       "      <th>transport_costs</th>\n",
       "      <th>cisf_costs</th>\n",
       "      <th>hc_costs</th>\n",
       "    </tr>\n",
       "  </thead>\n",
       "  <tbody>\n",
       "    <tr>\n",
       "      <th>0</th>\n",
       "      <td>1</td>\n",
       "      <td>1</td>\n",
       "      <td>5.671984e+09</td>\n",
       "      <td>2.015280e+09</td>\n",
       "      <td>3.417033e+08</td>\n",
       "      <td>3.315000e+09</td>\n",
       "    </tr>\n",
       "    <tr>\n",
       "      <th>1</th>\n",
       "      <td>1</td>\n",
       "      <td>2</td>\n",
       "      <td>5.858138e+09</td>\n",
       "      <td>2.144763e+09</td>\n",
       "      <td>3.983756e+08</td>\n",
       "      <td>3.315000e+09</td>\n",
       "    </tr>\n",
       "    <tr>\n",
       "      <th>8</th>\n",
       "      <td>2</td>\n",
       "      <td>1</td>\n",
       "      <td>5.787875e+09</td>\n",
       "      <td>2.041172e+09</td>\n",
       "      <td>3.417033e+08</td>\n",
       "      <td>3.405000e+09</td>\n",
       "    </tr>\n",
       "    <tr>\n",
       "      <th>9</th>\n",
       "      <td>2</td>\n",
       "      <td>2</td>\n",
       "      <td>4.957594e+09</td>\n",
       "      <td>1.154219e+09</td>\n",
       "      <td>3.983756e+08</td>\n",
       "      <td>3.405000e+09</td>\n",
       "    </tr>\n",
       "  </tbody>\n",
       "</table>\n",
       "</div>"
      ],
      "text/plain": [
       "  n_hc n_cisf   total_costs  transport_costs    cisf_costs      hc_costs\n",
       "0    1      1  5.671984e+09     2.015280e+09  3.417033e+08  3.315000e+09\n",
       "1    1      2  5.858138e+09     2.144763e+09  3.983756e+08  3.315000e+09\n",
       "8    2      1  5.787875e+09     2.041172e+09  3.417033e+08  3.405000e+09\n",
       "9    2      2  4.957594e+09     1.154219e+09  3.983756e+08  3.405000e+09"
      ]
     },
     "execution_count": 31,
     "metadata": {},
     "output_type": "execute_result"
    }
   ],
   "source": [
    "df[df[\"n_hc\"].isin([1,2]) & df[\"n_cisf\"].isin([1,2])]"
   ]
  },
  {
   "cell_type": "code",
   "execution_count": 32,
   "metadata": {},
   "outputs": [
    {
     "data": {
      "text/html": [
       "<div>\n",
       "<style scoped>\n",
       "    .dataframe tbody tr th:only-of-type {\n",
       "        vertical-align: middle;\n",
       "    }\n",
       "\n",
       "    .dataframe tbody tr th {\n",
       "        vertical-align: top;\n",
       "    }\n",
       "\n",
       "    .dataframe thead th {\n",
       "        text-align: right;\n",
       "    }\n",
       "</style>\n",
       "<table border=\"1\" class=\"dataframe\">\n",
       "  <thead>\n",
       "    <tr style=\"text-align: right;\">\n",
       "      <th></th>\n",
       "      <th>n_hc</th>\n",
       "      <th>n_cisf</th>\n",
       "      <th>total_costs</th>\n",
       "      <th>transport_costs</th>\n",
       "      <th>cisf_costs</th>\n",
       "      <th>hc_costs</th>\n",
       "    </tr>\n",
       "  </thead>\n",
       "  <tbody>\n",
       "    <tr>\n",
       "      <th>27</th>\n",
       "      <td>4</td>\n",
       "      <td>4</td>\n",
       "      <td>4.767157e+09</td>\n",
       "      <td>6.571801e+08</td>\n",
       "      <td>5.249773e+08</td>\n",
       "      <td>3.585000e+09</td>\n",
       "    </tr>\n",
       "    <tr>\n",
       "      <th>36</th>\n",
       "      <td>5</td>\n",
       "      <td>5</td>\n",
       "      <td>4.839940e+09</td>\n",
       "      <td>5.899195e+08</td>\n",
       "      <td>5.750209e+08</td>\n",
       "      <td>3.675000e+09</td>\n",
       "    </tr>\n",
       "    <tr>\n",
       "      <th>28</th>\n",
       "      <td>4</td>\n",
       "      <td>5</td>\n",
       "      <td>4.853681e+09</td>\n",
       "      <td>6.936597e+08</td>\n",
       "      <td>5.750209e+08</td>\n",
       "      <td>3.585000e+09</td>\n",
       "    </tr>\n",
       "    <tr>\n",
       "      <th>35</th>\n",
       "      <td>5</td>\n",
       "      <td>4</td>\n",
       "      <td>4.856749e+09</td>\n",
       "      <td>6.567716e+08</td>\n",
       "      <td>5.249773e+08</td>\n",
       "      <td>3.675000e+09</td>\n",
       "    </tr>\n",
       "    <tr>\n",
       "      <th>18</th>\n",
       "      <td>3</td>\n",
       "      <td>3</td>\n",
       "      <td>4.869976e+09</td>\n",
       "      <td>9.464426e+08</td>\n",
       "      <td>4.285333e+08</td>\n",
       "      <td>3.495000e+09</td>\n",
       "    </tr>\n",
       "    <tr>\n",
       "      <th>19</th>\n",
       "      <td>3</td>\n",
       "      <td>4</td>\n",
       "      <td>4.877202e+09</td>\n",
       "      <td>8.572248e+08</td>\n",
       "      <td>5.249773e+08</td>\n",
       "      <td>3.495000e+09</td>\n",
       "    </tr>\n",
       "    <tr>\n",
       "      <th>26</th>\n",
       "      <td>4</td>\n",
       "      <td>3</td>\n",
       "      <td>4.952902e+09</td>\n",
       "      <td>9.393688e+08</td>\n",
       "      <td>4.285333e+08</td>\n",
       "      <td>3.585000e+09</td>\n",
       "    </tr>\n",
       "    <tr>\n",
       "      <th>37</th>\n",
       "      <td>5</td>\n",
       "      <td>6</td>\n",
       "      <td>4.953188e+09</td>\n",
       "      <td>6.531232e+08</td>\n",
       "      <td>6.250646e+08</td>\n",
       "      <td>3.675000e+09</td>\n",
       "    </tr>\n",
       "    <tr>\n",
       "      <th>9</th>\n",
       "      <td>2</td>\n",
       "      <td>2</td>\n",
       "      <td>4.957594e+09</td>\n",
       "      <td>1.154219e+09</td>\n",
       "      <td>3.983756e+08</td>\n",
       "      <td>3.405000e+09</td>\n",
       "    </tr>\n",
       "    <tr>\n",
       "      <th>44</th>\n",
       "      <td>6</td>\n",
       "      <td>5</td>\n",
       "      <td>4.960058e+09</td>\n",
       "      <td>6.200374e+08</td>\n",
       "      <td>5.750209e+08</td>\n",
       "      <td>3.765000e+09</td>\n",
       "    </tr>\n",
       "    <tr>\n",
       "      <th>20</th>\n",
       "      <td>3</td>\n",
       "      <td>5</td>\n",
       "      <td>4.963725e+09</td>\n",
       "      <td>8.937044e+08</td>\n",
       "      <td>5.750209e+08</td>\n",
       "      <td>3.495000e+09</td>\n",
       "    </tr>\n",
       "    <tr>\n",
       "      <th>43</th>\n",
       "      <td>6</td>\n",
       "      <td>4</td>\n",
       "      <td>4.966920e+09</td>\n",
       "      <td>6.769428e+08</td>\n",
       "      <td>5.249773e+08</td>\n",
       "      <td>3.765000e+09</td>\n",
       "    </tr>\n",
       "    <tr>\n",
       "      <th>29</th>\n",
       "      <td>4</td>\n",
       "      <td>6</td>\n",
       "      <td>4.972996e+09</td>\n",
       "      <td>7.629310e+08</td>\n",
       "      <td>6.250646e+08</td>\n",
       "      <td>3.585000e+09</td>\n",
       "    </tr>\n",
       "    <tr>\n",
       "      <th>11</th>\n",
       "      <td>2</td>\n",
       "      <td>4</td>\n",
       "      <td>5.011899e+09</td>\n",
       "      <td>1.081922e+09</td>\n",
       "      <td>5.249773e+08</td>\n",
       "      <td>3.405000e+09</td>\n",
       "    </tr>\n",
       "    <tr>\n",
       "      <th>45</th>\n",
       "      <td>6</td>\n",
       "      <td>6</td>\n",
       "      <td>5.012321e+09</td>\n",
       "      <td>6.222568e+08</td>\n",
       "      <td>6.250646e+08</td>\n",
       "      <td>3.765000e+09</td>\n",
       "    </tr>\n",
       "    <tr>\n",
       "      <th>17</th>\n",
       "      <td>3</td>\n",
       "      <td>2</td>\n",
       "      <td>5.024139e+09</td>\n",
       "      <td>1.130764e+09</td>\n",
       "      <td>3.983756e+08</td>\n",
       "      <td>3.495000e+09</td>\n",
       "    </tr>\n",
       "    <tr>\n",
       "      <th>10</th>\n",
       "      <td>2</td>\n",
       "      <td>3</td>\n",
       "      <td>5.025918e+09</td>\n",
       "      <td>1.192385e+09</td>\n",
       "      <td>4.285333e+08</td>\n",
       "      <td>3.405000e+09</td>\n",
       "    </tr>\n",
       "    <tr>\n",
       "      <th>34</th>\n",
       "      <td>5</td>\n",
       "      <td>3</td>\n",
       "      <td>5.032906e+09</td>\n",
       "      <td>9.293724e+08</td>\n",
       "      <td>4.285333e+08</td>\n",
       "      <td>3.675000e+09</td>\n",
       "    </tr>\n",
       "    <tr>\n",
       "      <th>30</th>\n",
       "      <td>4</td>\n",
       "      <td>7</td>\n",
       "      <td>5.042487e+09</td>\n",
       "      <td>7.359788e+08</td>\n",
       "      <td>7.215086e+08</td>\n",
       "      <td>3.585000e+09</td>\n",
       "    </tr>\n",
       "    <tr>\n",
       "      <th>38</th>\n",
       "      <td>5</td>\n",
       "      <td>7</td>\n",
       "      <td>5.048161e+09</td>\n",
       "      <td>6.516524e+08</td>\n",
       "      <td>7.215086e+08</td>\n",
       "      <td>3.675000e+09</td>\n",
       "    </tr>\n",
       "    <tr>\n",
       "      <th>46</th>\n",
       "      <td>6</td>\n",
       "      <td>7</td>\n",
       "      <td>5.061182e+09</td>\n",
       "      <td>5.746730e+08</td>\n",
       "      <td>7.215086e+08</td>\n",
       "      <td>3.765000e+09</td>\n",
       "    </tr>\n",
       "    <tr>\n",
       "      <th>21</th>\n",
       "      <td>3</td>\n",
       "      <td>6</td>\n",
       "      <td>5.088193e+09</td>\n",
       "      <td>9.681286e+08</td>\n",
       "      <td>6.250646e+08</td>\n",
       "      <td>3.495000e+09</td>\n",
       "    </tr>\n",
       "    <tr>\n",
       "      <th>12</th>\n",
       "      <td>2</td>\n",
       "      <td>5</td>\n",
       "      <td>5.094567e+09</td>\n",
       "      <td>1.114546e+09</td>\n",
       "      <td>5.750209e+08</td>\n",
       "      <td>3.405000e+09</td>\n",
       "    </tr>\n",
       "    <tr>\n",
       "      <th>25</th>\n",
       "      <td>4</td>\n",
       "      <td>2</td>\n",
       "      <td>5.119290e+09</td>\n",
       "      <td>1.135915e+09</td>\n",
       "      <td>3.983756e+08</td>\n",
       "      <td>3.585000e+09</td>\n",
       "    </tr>\n",
       "    <tr>\n",
       "      <th>42</th>\n",
       "      <td>6</td>\n",
       "      <td>3</td>\n",
       "      <td>5.122689e+09</td>\n",
       "      <td>9.291560e+08</td>\n",
       "      <td>4.285333e+08</td>\n",
       "      <td>3.765000e+09</td>\n",
       "    </tr>\n",
       "    <tr>\n",
       "      <th>13</th>\n",
       "      <td>2</td>\n",
       "      <td>6</td>\n",
       "      <td>5.201792e+09</td>\n",
       "      <td>1.171727e+09</td>\n",
       "      <td>6.250646e+08</td>\n",
       "      <td>3.405000e+09</td>\n",
       "    </tr>\n",
       "    <tr>\n",
       "      <th>22</th>\n",
       "      <td>3</td>\n",
       "      <td>7</td>\n",
       "      <td>5.204259e+09</td>\n",
       "      <td>9.877508e+08</td>\n",
       "      <td>7.215086e+08</td>\n",
       "      <td>3.495000e+09</td>\n",
       "    </tr>\n",
       "    <tr>\n",
       "      <th>33</th>\n",
       "      <td>5</td>\n",
       "      <td>2</td>\n",
       "      <td>5.226185e+09</td>\n",
       "      <td>1.152809e+09</td>\n",
       "      <td>3.983756e+08</td>\n",
       "      <td>3.675000e+09</td>\n",
       "    </tr>\n",
       "    <tr>\n",
       "      <th>41</th>\n",
       "      <td>6</td>\n",
       "      <td>2</td>\n",
       "      <td>5.298990e+09</td>\n",
       "      <td>1.135614e+09</td>\n",
       "      <td>3.983756e+08</td>\n",
       "      <td>3.765000e+09</td>\n",
       "    </tr>\n",
       "    <tr>\n",
       "      <th>14</th>\n",
       "      <td>2</td>\n",
       "      <td>7</td>\n",
       "      <td>5.319392e+09</td>\n",
       "      <td>1.192884e+09</td>\n",
       "      <td>7.215086e+08</td>\n",
       "      <td>3.405000e+09</td>\n",
       "    </tr>\n",
       "    <tr>\n",
       "      <th>48</th>\n",
       "      <td>nothing</td>\n",
       "      <td>1</td>\n",
       "      <td>5.671984e+09</td>\n",
       "      <td>2.015280e+09</td>\n",
       "      <td>3.417033e+08</td>\n",
       "      <td>3.315000e+09</td>\n",
       "    </tr>\n",
       "    <tr>\n",
       "      <th>0</th>\n",
       "      <td>1</td>\n",
       "      <td>1</td>\n",
       "      <td>5.671984e+09</td>\n",
       "      <td>2.015280e+09</td>\n",
       "      <td>3.417033e+08</td>\n",
       "      <td>3.315000e+09</td>\n",
       "    </tr>\n",
       "    <tr>\n",
       "      <th>55</th>\n",
       "      <td>nothing</td>\n",
       "      <td>nothing</td>\n",
       "      <td>5.671984e+09</td>\n",
       "      <td>2.015280e+09</td>\n",
       "      <td>3.417033e+08</td>\n",
       "      <td>3.315000e+09</td>\n",
       "    </tr>\n",
       "    <tr>\n",
       "      <th>7</th>\n",
       "      <td>1</td>\n",
       "      <td>nothing</td>\n",
       "      <td>5.671984e+09</td>\n",
       "      <td>2.015280e+09</td>\n",
       "      <td>3.417033e+08</td>\n",
       "      <td>3.315000e+09</td>\n",
       "    </tr>\n",
       "    <tr>\n",
       "      <th>15</th>\n",
       "      <td>2</td>\n",
       "      <td>nothing</td>\n",
       "      <td>5.761289e+09</td>\n",
       "      <td>2.014586e+09</td>\n",
       "      <td>3.417033e+08</td>\n",
       "      <td>3.405000e+09</td>\n",
       "    </tr>\n",
       "    <tr>\n",
       "      <th>8</th>\n",
       "      <td>2</td>\n",
       "      <td>1</td>\n",
       "      <td>5.787875e+09</td>\n",
       "      <td>2.041172e+09</td>\n",
       "      <td>3.417033e+08</td>\n",
       "      <td>3.405000e+09</td>\n",
       "    </tr>\n",
       "    <tr>\n",
       "      <th>49</th>\n",
       "      <td>nothing</td>\n",
       "      <td>2</td>\n",
       "      <td>5.841368e+09</td>\n",
       "      <td>2.127993e+09</td>\n",
       "      <td>3.983756e+08</td>\n",
       "      <td>3.315000e+09</td>\n",
       "    </tr>\n",
       "    <tr>\n",
       "      <th>23</th>\n",
       "      <td>3</td>\n",
       "      <td>nothing</td>\n",
       "      <td>5.850900e+09</td>\n",
       "      <td>2.014197e+09</td>\n",
       "      <td>3.417033e+08</td>\n",
       "      <td>3.495000e+09</td>\n",
       "    </tr>\n",
       "    <tr>\n",
       "      <th>1</th>\n",
       "      <td>1</td>\n",
       "      <td>2</td>\n",
       "      <td>5.858138e+09</td>\n",
       "      <td>2.144763e+09</td>\n",
       "      <td>3.983756e+08</td>\n",
       "      <td>3.315000e+09</td>\n",
       "    </tr>\n",
       "    <tr>\n",
       "      <th>16</th>\n",
       "      <td>3</td>\n",
       "      <td>1</td>\n",
       "      <td>5.878034e+09</td>\n",
       "      <td>2.041331e+09</td>\n",
       "      <td>3.417033e+08</td>\n",
       "      <td>3.495000e+09</td>\n",
       "    </tr>\n",
       "    <tr>\n",
       "      <th>24</th>\n",
       "      <td>4</td>\n",
       "      <td>1</td>\n",
       "      <td>5.940879e+09</td>\n",
       "      <td>2.014175e+09</td>\n",
       "      <td>3.417033e+08</td>\n",
       "      <td>3.585000e+09</td>\n",
       "    </tr>\n",
       "    <tr>\n",
       "      <th>31</th>\n",
       "      <td>4</td>\n",
       "      <td>nothing</td>\n",
       "      <td>5.959252e+09</td>\n",
       "      <td>2.032548e+09</td>\n",
       "      <td>3.417033e+08</td>\n",
       "      <td>3.585000e+09</td>\n",
       "    </tr>\n",
       "    <tr>\n",
       "      <th>50</th>\n",
       "      <td>nothing</td>\n",
       "      <td>3</td>\n",
       "      <td>5.962073e+09</td>\n",
       "      <td>2.218540e+09</td>\n",
       "      <td>4.285333e+08</td>\n",
       "      <td>3.315000e+09</td>\n",
       "    </tr>\n",
       "    <tr>\n",
       "      <th>2</th>\n",
       "      <td>1</td>\n",
       "      <td>3</td>\n",
       "      <td>5.962073e+09</td>\n",
       "      <td>2.218540e+09</td>\n",
       "      <td>4.285333e+08</td>\n",
       "      <td>3.315000e+09</td>\n",
       "    </tr>\n",
       "    <tr>\n",
       "      <th>39</th>\n",
       "      <td>5</td>\n",
       "      <td>nothing</td>\n",
       "      <td>6.030774e+09</td>\n",
       "      <td>2.014071e+09</td>\n",
       "      <td>3.417033e+08</td>\n",
       "      <td>3.675000e+09</td>\n",
       "    </tr>\n",
       "    <tr>\n",
       "      <th>3</th>\n",
       "      <td>1</td>\n",
       "      <td>4</td>\n",
       "      <td>6.034683e+09</td>\n",
       "      <td>2.194706e+09</td>\n",
       "      <td>5.249773e+08</td>\n",
       "      <td>3.315000e+09</td>\n",
       "    </tr>\n",
       "    <tr>\n",
       "      <th>32</th>\n",
       "      <td>5</td>\n",
       "      <td>1</td>\n",
       "      <td>6.048806e+09</td>\n",
       "      <td>2.032103e+09</td>\n",
       "      <td>3.417033e+08</td>\n",
       "      <td>3.675000e+09</td>\n",
       "    </tr>\n",
       "    <tr>\n",
       "      <th>51</th>\n",
       "      <td>nothing</td>\n",
       "      <td>4</td>\n",
       "      <td>6.062363e+09</td>\n",
       "      <td>2.222386e+09</td>\n",
       "      <td>5.249773e+08</td>\n",
       "      <td>3.315000e+09</td>\n",
       "    </tr>\n",
       "    <tr>\n",
       "      <th>47</th>\n",
       "      <td>6</td>\n",
       "      <td>nothing</td>\n",
       "      <td>6.120071e+09</td>\n",
       "      <td>2.013367e+09</td>\n",
       "      <td>3.417033e+08</td>\n",
       "      <td>3.765000e+09</td>\n",
       "    </tr>\n",
       "    <tr>\n",
       "      <th>4</th>\n",
       "      <td>1</td>\n",
       "      <td>5</td>\n",
       "      <td>6.120576e+09</td>\n",
       "      <td>2.230555e+09</td>\n",
       "      <td>5.750209e+08</td>\n",
       "      <td>3.315000e+09</td>\n",
       "    </tr>\n",
       "    <tr>\n",
       "      <th>52</th>\n",
       "      <td>nothing</td>\n",
       "      <td>5</td>\n",
       "      <td>6.129780e+09</td>\n",
       "      <td>2.239759e+09</td>\n",
       "      <td>5.750209e+08</td>\n",
       "      <td>3.315000e+09</td>\n",
       "    </tr>\n",
       "    <tr>\n",
       "      <th>40</th>\n",
       "      <td>6</td>\n",
       "      <td>1</td>\n",
       "      <td>6.163000e+09</td>\n",
       "      <td>2.056296e+09</td>\n",
       "      <td>3.417033e+08</td>\n",
       "      <td>3.765000e+09</td>\n",
       "    </tr>\n",
       "    <tr>\n",
       "      <th>53</th>\n",
       "      <td>nothing</td>\n",
       "      <td>6</td>\n",
       "      <td>6.202062e+09</td>\n",
       "      <td>2.261997e+09</td>\n",
       "      <td>6.250646e+08</td>\n",
       "      <td>3.315000e+09</td>\n",
       "    </tr>\n",
       "    <tr>\n",
       "      <th>5</th>\n",
       "      <td>1</td>\n",
       "      <td>6</td>\n",
       "      <td>6.209689e+09</td>\n",
       "      <td>2.269624e+09</td>\n",
       "      <td>6.250646e+08</td>\n",
       "      <td>3.315000e+09</td>\n",
       "    </tr>\n",
       "    <tr>\n",
       "      <th>54</th>\n",
       "      <td>nothing</td>\n",
       "      <td>7</td>\n",
       "      <td>6.325765e+09</td>\n",
       "      <td>2.289256e+09</td>\n",
       "      <td>7.215086e+08</td>\n",
       "      <td>3.315000e+09</td>\n",
       "    </tr>\n",
       "    <tr>\n",
       "      <th>6</th>\n",
       "      <td>1</td>\n",
       "      <td>7</td>\n",
       "      <td>6.327636e+09</td>\n",
       "      <td>2.291127e+09</td>\n",
       "      <td>7.215086e+08</td>\n",
       "      <td>3.315000e+09</td>\n",
       "    </tr>\n",
       "  </tbody>\n",
       "</table>\n",
       "</div>"
      ],
      "text/plain": [
       "       n_hc   n_cisf   total_costs  transport_costs    cisf_costs  \\\n",
       "27        4        4  4.767157e+09     6.571801e+08  5.249773e+08   \n",
       "36        5        5  4.839940e+09     5.899195e+08  5.750209e+08   \n",
       "28        4        5  4.853681e+09     6.936597e+08  5.750209e+08   \n",
       "35        5        4  4.856749e+09     6.567716e+08  5.249773e+08   \n",
       "18        3        3  4.869976e+09     9.464426e+08  4.285333e+08   \n",
       "19        3        4  4.877202e+09     8.572248e+08  5.249773e+08   \n",
       "26        4        3  4.952902e+09     9.393688e+08  4.285333e+08   \n",
       "37        5        6  4.953188e+09     6.531232e+08  6.250646e+08   \n",
       "9         2        2  4.957594e+09     1.154219e+09  3.983756e+08   \n",
       "44        6        5  4.960058e+09     6.200374e+08  5.750209e+08   \n",
       "20        3        5  4.963725e+09     8.937044e+08  5.750209e+08   \n",
       "43        6        4  4.966920e+09     6.769428e+08  5.249773e+08   \n",
       "29        4        6  4.972996e+09     7.629310e+08  6.250646e+08   \n",
       "11        2        4  5.011899e+09     1.081922e+09  5.249773e+08   \n",
       "45        6        6  5.012321e+09     6.222568e+08  6.250646e+08   \n",
       "17        3        2  5.024139e+09     1.130764e+09  3.983756e+08   \n",
       "10        2        3  5.025918e+09     1.192385e+09  4.285333e+08   \n",
       "34        5        3  5.032906e+09     9.293724e+08  4.285333e+08   \n",
       "30        4        7  5.042487e+09     7.359788e+08  7.215086e+08   \n",
       "38        5        7  5.048161e+09     6.516524e+08  7.215086e+08   \n",
       "46        6        7  5.061182e+09     5.746730e+08  7.215086e+08   \n",
       "21        3        6  5.088193e+09     9.681286e+08  6.250646e+08   \n",
       "12        2        5  5.094567e+09     1.114546e+09  5.750209e+08   \n",
       "25        4        2  5.119290e+09     1.135915e+09  3.983756e+08   \n",
       "42        6        3  5.122689e+09     9.291560e+08  4.285333e+08   \n",
       "13        2        6  5.201792e+09     1.171727e+09  6.250646e+08   \n",
       "22        3        7  5.204259e+09     9.877508e+08  7.215086e+08   \n",
       "33        5        2  5.226185e+09     1.152809e+09  3.983756e+08   \n",
       "41        6        2  5.298990e+09     1.135614e+09  3.983756e+08   \n",
       "14        2        7  5.319392e+09     1.192884e+09  7.215086e+08   \n",
       "48  nothing        1  5.671984e+09     2.015280e+09  3.417033e+08   \n",
       "0         1        1  5.671984e+09     2.015280e+09  3.417033e+08   \n",
       "55  nothing  nothing  5.671984e+09     2.015280e+09  3.417033e+08   \n",
       "7         1  nothing  5.671984e+09     2.015280e+09  3.417033e+08   \n",
       "15        2  nothing  5.761289e+09     2.014586e+09  3.417033e+08   \n",
       "8         2        1  5.787875e+09     2.041172e+09  3.417033e+08   \n",
       "49  nothing        2  5.841368e+09     2.127993e+09  3.983756e+08   \n",
       "23        3  nothing  5.850900e+09     2.014197e+09  3.417033e+08   \n",
       "1         1        2  5.858138e+09     2.144763e+09  3.983756e+08   \n",
       "16        3        1  5.878034e+09     2.041331e+09  3.417033e+08   \n",
       "24        4        1  5.940879e+09     2.014175e+09  3.417033e+08   \n",
       "31        4  nothing  5.959252e+09     2.032548e+09  3.417033e+08   \n",
       "50  nothing        3  5.962073e+09     2.218540e+09  4.285333e+08   \n",
       "2         1        3  5.962073e+09     2.218540e+09  4.285333e+08   \n",
       "39        5  nothing  6.030774e+09     2.014071e+09  3.417033e+08   \n",
       "3         1        4  6.034683e+09     2.194706e+09  5.249773e+08   \n",
       "32        5        1  6.048806e+09     2.032103e+09  3.417033e+08   \n",
       "51  nothing        4  6.062363e+09     2.222386e+09  5.249773e+08   \n",
       "47        6  nothing  6.120071e+09     2.013367e+09  3.417033e+08   \n",
       "4         1        5  6.120576e+09     2.230555e+09  5.750209e+08   \n",
       "52  nothing        5  6.129780e+09     2.239759e+09  5.750209e+08   \n",
       "40        6        1  6.163000e+09     2.056296e+09  3.417033e+08   \n",
       "53  nothing        6  6.202062e+09     2.261997e+09  6.250646e+08   \n",
       "5         1        6  6.209689e+09     2.269624e+09  6.250646e+08   \n",
       "54  nothing        7  6.325765e+09     2.289256e+09  7.215086e+08   \n",
       "6         1        7  6.327636e+09     2.291127e+09  7.215086e+08   \n",
       "\n",
       "        hc_costs  \n",
       "27  3.585000e+09  \n",
       "36  3.675000e+09  \n",
       "28  3.585000e+09  \n",
       "35  3.675000e+09  \n",
       "18  3.495000e+09  \n",
       "19  3.495000e+09  \n",
       "26  3.585000e+09  \n",
       "37  3.675000e+09  \n",
       "9   3.405000e+09  \n",
       "44  3.765000e+09  \n",
       "20  3.495000e+09  \n",
       "43  3.765000e+09  \n",
       "29  3.585000e+09  \n",
       "11  3.405000e+09  \n",
       "45  3.765000e+09  \n",
       "17  3.495000e+09  \n",
       "10  3.405000e+09  \n",
       "34  3.675000e+09  \n",
       "30  3.585000e+09  \n",
       "38  3.675000e+09  \n",
       "46  3.765000e+09  \n",
       "21  3.495000e+09  \n",
       "12  3.405000e+09  \n",
       "25  3.585000e+09  \n",
       "42  3.765000e+09  \n",
       "13  3.405000e+09  \n",
       "22  3.495000e+09  \n",
       "33  3.675000e+09  \n",
       "41  3.765000e+09  \n",
       "14  3.405000e+09  \n",
       "48  3.315000e+09  \n",
       "0   3.315000e+09  \n",
       "55  3.315000e+09  \n",
       "7   3.315000e+09  \n",
       "15  3.405000e+09  \n",
       "8   3.405000e+09  \n",
       "49  3.315000e+09  \n",
       "23  3.495000e+09  \n",
       "1   3.315000e+09  \n",
       "16  3.495000e+09  \n",
       "24  3.585000e+09  \n",
       "31  3.585000e+09  \n",
       "50  3.315000e+09  \n",
       "2   3.315000e+09  \n",
       "39  3.675000e+09  \n",
       "3   3.315000e+09  \n",
       "32  3.675000e+09  \n",
       "51  3.315000e+09  \n",
       "47  3.765000e+09  \n",
       "4   3.315000e+09  \n",
       "52  3.315000e+09  \n",
       "40  3.765000e+09  \n",
       "53  3.315000e+09  \n",
       "5   3.315000e+09  \n",
       "54  3.315000e+09  \n",
       "6   3.315000e+09  "
      ]
     },
     "execution_count": 32,
     "metadata": {},
     "output_type": "execute_result"
    }
   ],
   "source": [
    "df.sort_values(\"total_costs\")"
   ]
  },
  {
   "cell_type": "code",
   "execution_count": 33,
   "metadata": {},
   "outputs": [
    {
     "data": {
      "image/png": "[encoded data removed]",
      "text/plain": [
       "<Figure size 800x600 with 2 Axes>"
      ]
     },
     "metadata": {},
     "output_type": "display_data"
    }
   ],
   "source": [
    "# Pivot the data to create a matrix format suitable for heatmap\n",
    "heatmap_data = df.pivot(index=\"n_cisf\", columns=\"n_hc\", values=\"total_costs\")\n",
    "heatmap_data = heatmap_data[::-1]\n",
    "# Create the heatmap with Seaborn\n",
    "plt.figure(figsize=(8, 6))\n",
    "sns.heatmap(heatmap_data, annot=False, fmt=\".1f\", cmap=\"inferno\", cbar_kws={'label': 'Total Costs'})\n",
    "plt.title(\"Heatmap of Total Costs\")\n",
    "plt.xlabel(\"Number of HC\")\n",
    "plt.ylabel(\"Number of CISF\")\n",
    "plt.show()"
   ]
  },
  {
   "cell_type": "code",
   "execution_count": null,
   "metadata": {},
   "outputs": [
    {
     "ename": "ValueError",
     "evalue": "Mime type rendering requires nbformat>=4.2.0 but it is not installed",
     "output_type": "error",
     "traceback": [
      "\u001b[0;31m---------------------------------------------------------------------------\u001b[0m",
      "\u001b[0;31mValueError\u001b[0m                                Traceback (most recent call last)",
      "File \u001b[0;32m~/Documents/Privat/Uni/Berlin/WS23-24/OR-INF/term_paper/operations_oppenheimer/.venv/lib/python3.12/site-packages/IPython/core/formatters.py:925\u001b[0m, in \u001b[0;36mIPythonDisplayFormatter.__call__\u001b[0;34m(self, obj)\u001b[0m\n\u001b[1;32m    923\u001b[0m method \u001b[38;5;241m=\u001b[39m get_real_method(obj, \u001b[38;5;28mself\u001b[39m\u001b[38;5;241m.\u001b[39mprint_method)\n\u001b[1;32m    924\u001b[0m \u001b[38;5;28;01mif\u001b[39;00m method \u001b[38;5;129;01mis\u001b[39;00m \u001b[38;5;129;01mnot\u001b[39;00m \u001b[38;5;28;01mNone\u001b[39;00m:\n\u001b[0;32m--> 925\u001b[0m     \u001b[43mmethod\u001b[49m\u001b[43m(\u001b[49m\u001b[43m)\u001b[49m\n\u001b[1;32m    926\u001b[0m     \u001b[38;5;28;01mreturn\u001b[39;00m \u001b[38;5;28;01mTrue\u001b[39;00m\n",
      "File \u001b[0;32m~/Documents/Privat/Uni/Berlin/WS23-24/OR-INF/term_paper/operations_oppenheimer/.venv/lib/python3.12/site-packages/plotly/basedatatypes.py:832\u001b[0m, in \u001b[0;36mBaseFigure._ipython_display_\u001b[0;34m(self)\u001b[0m\n\u001b[1;32m    829\u001b[0m \u001b[38;5;28;01mimport\u001b[39;00m \u001b[38;5;21;01mplotly\u001b[39;00m\u001b[38;5;21;01m.\u001b[39;00m\u001b[38;5;21;01mio\u001b[39;00m \u001b[38;5;28;01mas\u001b[39;00m \u001b[38;5;21;01mpio\u001b[39;00m\n\u001b[1;32m    831\u001b[0m \u001b[38;5;28;01mif\u001b[39;00m pio\u001b[38;5;241m.\u001b[39mrenderers\u001b[38;5;241m.\u001b[39mrender_on_display \u001b[38;5;129;01mand\u001b[39;00m pio\u001b[38;5;241m.\u001b[39mrenderers\u001b[38;5;241m.\u001b[39mdefault:\n\u001b[0;32m--> 832\u001b[0m     \u001b[43mpio\u001b[49m\u001b[38;5;241;43m.\u001b[39;49m\u001b[43mshow\u001b[49m\u001b[43m(\u001b[49m\u001b[38;5;28;43mself\u001b[39;49m\u001b[43m)\u001b[49m\n\u001b[1;32m    833\u001b[0m \u001b[38;5;28;01melse\u001b[39;00m:\n\u001b[1;32m    834\u001b[0m     \u001b[38;5;28mprint\u001b[39m(\u001b[38;5;28mrepr\u001b[39m(\u001b[38;5;28mself\u001b[39m))\n",
      "File \u001b[0;32m~/Documents/Privat/Uni/Berlin/WS23-24/OR-INF/term_paper/operations_oppenheimer/.venv/lib/python3.12/site-packages/plotly/io/_renderers.py:394\u001b[0m, in \u001b[0;36mshow\u001b[0;34m(fig, renderer, validate, **kwargs)\u001b[0m\n\u001b[1;32m    389\u001b[0m         \u001b[38;5;28;01mraise\u001b[39;00m \u001b[38;5;167;01mValueError\u001b[39;00m(\n\u001b[1;32m    390\u001b[0m             \u001b[38;5;124m\"\u001b[39m\u001b[38;5;124mMime type rendering requires ipython but it is not installed\u001b[39m\u001b[38;5;124m\"\u001b[39m\n\u001b[1;32m    391\u001b[0m         )\n\u001b[1;32m    393\u001b[0m     \u001b[38;5;28;01mif\u001b[39;00m \u001b[38;5;129;01mnot\u001b[39;00m nbformat \u001b[38;5;129;01mor\u001b[39;00m Version(nbformat\u001b[38;5;241m.\u001b[39m__version__) \u001b[38;5;241m<\u001b[39m Version(\u001b[38;5;124m\"\u001b[39m\u001b[38;5;124m4.2.0\u001b[39m\u001b[38;5;124m\"\u001b[39m):\n\u001b[0;32m--> 394\u001b[0m         \u001b[38;5;28;01mraise\u001b[39;00m \u001b[38;5;167;01mValueError\u001b[39;00m(\n\u001b[1;32m    395\u001b[0m             \u001b[38;5;124m\"\u001b[39m\u001b[38;5;124mMime type rendering requires nbformat>=4.2.0 but it is not installed\u001b[39m\u001b[38;5;124m\"\u001b[39m\n\u001b[1;32m    396\u001b[0m         )\n\u001b[1;32m    398\u001b[0m     ipython_display\u001b[38;5;241m.\u001b[39mdisplay(bundle, raw\u001b[38;5;241m=\u001b[39m\u001b[38;5;28;01mTrue\u001b[39;00m)\n\u001b[1;32m    400\u001b[0m \u001b[38;5;66;03m# external renderers\u001b[39;00m\n",
      "\u001b[0;31mValueError\u001b[0m: Mime type rendering requires nbformat>=4.2.0 but it is not installed"
     ]
    },
    {
     "data": {
      "application/vnd.plotly.v1+json": {
       "config": {
        "plotlyServerURL": "https://plot.ly"
       },
       "data": [
        {
         "coloraxis": "coloraxis",
         "hovertemplate": "Number of HC: %{x}<br>Number of CISF: %{y}<br>Total Costs: %{z}<extra></extra>",
         "name": "0",
         "type": "heatmap",
         "x": [
          1,
          2,
          3,
          4,
          5,
          6,
          "nothing"
         ],
         "xaxis": "x",
         "y": [
          1,
          2,
          3,
          4,
          5,
          6,
          7,
          "nothing"
         ],
         "yaxis": "y",
         "z": [
          [
           5671983760.66,
           5787993610.66,
           5877723535.66,
           5966824960.66,
           6056992885.66,
           6148101535.66,
           5671983760.66
          ],
          [
           5841368186.2,
           4934139311.2,
           5023731911.2,
           5113731911.2,
           5209526261.2,
           5293084886.2,
           5841368186.2
          ],
          [
           5962073419.53,
           5025918019.53,
           4869975844.53,
           4943640094.53,
           5032905694.53,
           5123218894.53,
           5962073419.53
          ],
          [
           6030519945.91,
           5038159545.91,
           4877202120.91,
           4767157395.91,
           4857157395.91,
           4951983495.91,
           6071640720.91
          ],
          [
           6119242942.16,
           5094567142.16,
           4971858817.16,
           4853680642.16,
           4839940417.16,
           4929531967.16,
           6111743317.16
          ],
          [
           6198064438.41,
           5241097663.41,
           5088193138.41,
           4978148413.41,
           4947869263.41,
           5008983613.41,
           6237308038.41
          ],
          [
           6341232414.79,
           5304457389.79,
           5178492864.79,
           5035803114.79,
           5022062889.79,
           4996344939.79,
           6351568464.79
          ],
          [
           5671983760.66,
           5761314235.66,
           5850803635.66,
           5940585235.66,
           6030184135.66,
           6120104935.66,
           5671983760.66
          ]
         ]
        }
       ],
       "layout": {
        "coloraxis": {
         "colorbar": {
          "title": {
           "text": "Total Costs"
          }
         },
         "colorscale": [
          [
           0,
           "#440154"
          ],
          [
           0.1111111111111111,
           "#482878"
          ],
          [
           0.2222222222222222,
           "#3e4989"
          ],
          [
           0.3333333333333333,
           "#31688e"
          ],
          [
           0.4444444444444444,
           "#26828e"
          ],
          [
           0.5555555555555556,
           "#1f9e89"
          ],
          [
           0.6666666666666666,
           "#35b779"
          ],
          [
           0.7777777777777778,
           "#6ece58"
          ],
          [
           0.8888888888888888,
           "#b5de2b"
          ],
          [
           1,
           "#fde725"
          ]
         ]
        },
        "margin": {
         "t": 60
        },
        "template": {
         "data": {
          "bar": [
           {
            "error_x": {
             "color": "#2a3f5f"
            },
            "error_y": {
             "color": "#2a3f5f"
            },
            "marker": {
             "line": {
              "color": "#E5ECF6",
              "width": 0.5
             },
             "pattern": {
              "fillmode": "overlay",
              "size": 10,
              "solidity": 0.2
             }
            },
            "type": "bar"
           }
          ],
          "barpolar": [
           {
            "marker": {
             "line": {
              "color": "#E5ECF6",
              "width": 0.5
             },
             "pattern": {
              "fillmode": "overlay",
              "size": 10,
              "solidity": 0.2
             }
            },
            "type": "barpolar"
           }
          ],
          "carpet": [
           {
            "aaxis": {
             "endlinecolor": "#2a3f5f",
             "gridcolor": "white",
             "linecolor": "white",
             "minorgridcolor": "white",
             "startlinecolor": "#2a3f5f"
            },
            "baxis": {
             "endlinecolor": "#2a3f5f",
             "gridcolor": "white",
             "linecolor": "white",
             "minorgridcolor": "white",
             "startlinecolor": "#2a3f5f"
            },
            "type": "carpet"
           }
          ],
          "choropleth": [
           {
            "colorbar": {
             "outlinewidth": 0,
             "ticks": ""
            },
            "type": "choropleth"
           }
          ],
          "contour": [
           {
            "colorbar": {
             "outlinewidth": 0,
             "ticks": ""
            },
            "colorscale": [
             [
              0,
              "#0d0887"
             ],
             [
              0.1111111111111111,
              "#46039f"
             ],
             [
              0.2222222222222222,
              "#7201a8"
             ],
             [
              0.3333333333333333,
              "#9c179e"
             ],
             [
              0.4444444444444444,
              "#bd3786"
             ],
             [
              0.5555555555555556,
              "#d8576b"
             ],
             [
              0.6666666666666666,
              "#ed7953"
             ],
             [
              0.7777777777777778,
              "#fb9f3a"
             ],
             [
              0.8888888888888888,
              "#fdca26"
             ],
             [
              1,
              "#f0f921"
             ]
            ],
            "type": "contour"
           }
          ],
          "contourcarpet": [
           {
            "colorbar": {
             "outlinewidth": 0,
             "ticks": ""
            },
            "type": "contourcarpet"
           }
          ],
          "heatmap": [
           {
            "colorbar": {
             "outlinewidth": 0,
             "ticks": ""
            },
            "colorscale": [
             [
              0,
              "#0d0887"
             ],
             [
              0.1111111111111111,
              "#46039f"
             ],
             [
              0.2222222222222222,
              "#7201a8"
             ],
             [
              0.3333333333333333,
              "#9c179e"
             ],
             [
              0.4444444444444444,
              "#bd3786"
             ],
             [
              0.5555555555555556,
              "#d8576b"
             ],
             [
              0.6666666666666666,
              "#ed7953"
             ],
             [
              0.7777777777777778,
              "#fb9f3a"
             ],
             [
              0.8888888888888888,
              "#fdca26"
             ],
             [
              1,
              "#f0f921"
             ]
            ],
            "type": "heatmap"
           }
          ],
          "heatmapgl": [
           {
            "colorbar": {
             "outlinewidth": 0,
             "ticks": ""
            },
            "colorscale": [
             [
              0,
              "#0d0887"
             ],
             [
              0.1111111111111111,
              "#46039f"
             ],
             [
              0.2222222222222222,
              "#7201a8"
             ],
             [
              0.3333333333333333,
              "#9c179e"
             ],
             [
              0.4444444444444444,
              "#bd3786"
             ],
             [
              0.5555555555555556,
              "#d8576b"
             ],
             [
              0.6666666666666666,
              "#ed7953"
             ],
             [
              0.7777777777777778,
              "#fb9f3a"
             ],
             [
              0.8888888888888888,
              "#fdca26"
             ],
             [
              1,
              "#f0f921"
             ]
            ],
            "type": "heatmapgl"
           }
          ],
          "histogram": [
           {
            "marker": {
             "pattern": {
              "fillmode": "overlay",
              "size": 10,
              "solidity": 0.2
             }
            },
            "type": "histogram"
           }
          ],
          "histogram2d": [
           {
            "colorbar": {
             "outlinewidth": 0,
             "ticks": ""
            },
            "colorscale": [
             [
              0,
              "#0d0887"
             ],
             [
              0.1111111111111111,
              "#46039f"
             ],
             [
              0.2222222222222222,
              "#7201a8"
             ],
             [
              0.3333333333333333,
              "#9c179e"
             ],
             [
              0.4444444444444444,
              "#bd3786"
             ],
             [
              0.5555555555555556,
              "#d8576b"
             ],
             [
              0.6666666666666666,
              "#ed7953"
             ],
             [
              0.7777777777777778,
              "#fb9f3a"
             ],
             [
              0.8888888888888888,
              "#fdca26"
             ],
             [
              1,
              "#f0f921"
             ]
            ],
            "type": "histogram2d"
           }
          ],
          "histogram2dcontour": [
           {
            "colorbar": {
             "outlinewidth": 0,
             "ticks": ""
            },
            "colorscale": [
             [
              0,
              "#0d0887"
             ],
             [
              0.1111111111111111,
              "#46039f"
             ],
             [
              0.2222222222222222,
              "#7201a8"
             ],
             [
              0.3333333333333333,
              "#9c179e"
             ],
             [
              0.4444444444444444,
              "#bd3786"
             ],
             [
              0.5555555555555556,
              "#d8576b"
             ],
             [
              0.6666666666666666,
              "#ed7953"
             ],
             [
              0.7777777777777778,
              "#fb9f3a"
             ],
             [
              0.8888888888888888,
              "#fdca26"
             ],
             [
              1,
              "#f0f921"
             ]
            ],
            "type": "histogram2dcontour"
           }
          ],
          "mesh3d": [
           {
            "colorbar": {
             "outlinewidth": 0,
             "ticks": ""
            },
            "type": "mesh3d"
           }
          ],
          "parcoords": [
           {
            "line": {
             "colorbar": {
              "outlinewidth": 0,
              "ticks": ""
             }
            },
            "type": "parcoords"
           }
          ],
          "pie": [
           {
            "automargin": true,
            "type": "pie"
           }
          ],
          "scatter": [
           {
            "fillpattern": {
             "fillmode": "overlay",
             "size": 10,
             "solidity": 0.2
            },
            "type": "scatter"
           }
          ],
          "scatter3d": [
           {
            "line": {
             "colorbar": {
              "outlinewidth": 0,
              "ticks": ""
             }
            },
            "marker": {
             "colorbar": {
              "outlinewidth": 0,
              "ticks": ""
             }
            },
            "type": "scatter3d"
           }
          ],
          "scattercarpet": [
           {
            "marker": {
             "colorbar": {
              "outlinewidth": 0,
              "ticks": ""
             }
            },
            "type": "scattercarpet"
           }
          ],
          "scattergeo": [
           {
            "marker": {
             "colorbar": {
              "outlinewidth": 0,
              "ticks": ""
             }
            },
            "type": "scattergeo"
           }
          ],
          "scattergl": [
           {
            "marker": {
             "colorbar": {
              "outlinewidth": 0,
              "ticks": ""
             }
            },
            "type": "scattergl"
           }
          ],
          "scattermapbox": [
           {
            "marker": {
             "colorbar": {
              "outlinewidth": 0,
              "ticks": ""
             }
            },
            "type": "scattermapbox"
           }
          ],
          "scatterpolar": [
           {
            "marker": {
             "colorbar": {
              "outlinewidth": 0,
              "ticks": ""
             }
            },
            "type": "scatterpolar"
           }
          ],
          "scatterpolargl": [
           {
            "marker": {
             "colorbar": {
              "outlinewidth": 0,
              "ticks": ""
             }
            },
            "type": "scatterpolargl"
           }
          ],
          "scatterternary": [
           {
            "marker": {
             "colorbar": {
              "outlinewidth": 0,
              "ticks": ""
             }
            },
            "type": "scatterternary"
           }
          ],
          "surface": [
           {
            "colorbar": {
             "outlinewidth": 0,
             "ticks": ""
            },
            "colorscale": [
             [
              0,
              "#0d0887"
             ],
             [
              0.1111111111111111,
              "#46039f"
             ],
             [
              0.2222222222222222,
              "#7201a8"
             ],
             [
              0.3333333333333333,
              "#9c179e"
             ],
             [
              0.4444444444444444,
              "#bd3786"
             ],
             [
              0.5555555555555556,
              "#d8576b"
             ],
             [
              0.6666666666666666,
              "#ed7953"
             ],
             [
              0.7777777777777778,
              "#fb9f3a"
             ],
             [
              0.8888888888888888,
              "#fdca26"
             ],
             [
              1,
              "#f0f921"
             ]
            ],
            "type": "surface"
           }
          ],
          "table": [
           {
            "cells": {
             "fill": {
              "color": "#EBF0F8"
             },
             "line": {
              "color": "white"
             }
            },
            "header": {
             "fill": {
              "color": "#C8D4E3"
             },
             "line": {
              "color": "white"
             }
            },
            "type": "table"
           }
          ]
         },
         "layout": {
          "annotationdefaults": {
           "arrowcolor": "#2a3f5f",
           "arrowhead": 0,
           "arrowwidth": 1
          },
          "autotypenumbers": "strict",
          "coloraxis": {
           "colorbar": {
            "outlinewidth": 0,
            "ticks": ""
           }
          },
          "colorscale": {
           "diverging": [
            [
             0,
             "#8e0152"
            ],
            [
             0.1,
             "#c51b7d"
            ],
            [
             0.2,
             "#de77ae"
            ],
            [
             0.3,
             "#f1b6da"
            ],
            [
             0.4,
             "#fde0ef"
            ],
            [
             0.5,
             "#f7f7f7"
            ],
            [
             0.6,
             "#e6f5d0"
            ],
            [
             0.7,
             "#b8e186"
            ],
            [
             0.8,
             "#7fbc41"
            ],
            [
             0.9,
             "#4d9221"
            ],
            [
             1,
             "#276419"
            ]
           ],
           "sequential": [
            [
             0,
             "#0d0887"
            ],
            [
             0.1111111111111111,
             "#46039f"
            ],
            [
             0.2222222222222222,
             "#7201a8"
            ],
            [
             0.3333333333333333,
             "#9c179e"
            ],
            [
             0.4444444444444444,
             "#bd3786"
            ],
            [
             0.5555555555555556,
             "#d8576b"
            ],
            [
             0.6666666666666666,
             "#ed7953"
            ],
            [
             0.7777777777777778,
             "#fb9f3a"
            ],
            [
             0.8888888888888888,
             "#fdca26"
            ],
            [
             1,
             "#f0f921"
            ]
           ],
           "sequentialminus": [
            [
             0,
             "#0d0887"
            ],
            [
             0.1111111111111111,
             "#46039f"
            ],
            [
             0.2222222222222222,
             "#7201a8"
            ],
            [
             0.3333333333333333,
             "#9c179e"
            ],
            [
             0.4444444444444444,
             "#bd3786"
            ],
            [
             0.5555555555555556,
             "#d8576b"
            ],
            [
             0.6666666666666666,
             "#ed7953"
            ],
            [
             0.7777777777777778,
             "#fb9f3a"
            ],
            [
             0.8888888888888888,
             "#fdca26"
            ],
            [
             1,
             "#f0f921"
            ]
           ]
          },
          "colorway": [
           "#636efa",
           "#EF553B",
           "#00cc96",
           "#ab63fa",
           "#FFA15A",
           "#19d3f3",
           "#FF6692",
           "#B6E880",
           "#FF97FF",
           "#FECB52"
          ],
          "font": {
           "color": "#2a3f5f"
          },
          "geo": {
           "bgcolor": "white",
           "lakecolor": "white",
           "landcolor": "#E5ECF6",
           "showlakes": true,
           "showland": true,
           "subunitcolor": "white"
          },
          "hoverlabel": {
           "align": "left"
          },
          "hovermode": "closest",
          "mapbox": {
           "style": "light"
          },
          "paper_bgcolor": "white",
          "plot_bgcolor": "#E5ECF6",
          "polar": {
           "angularaxis": {
            "gridcolor": "white",
            "linecolor": "white",
            "ticks": ""
           },
           "bgcolor": "#E5ECF6",
           "radialaxis": {
            "gridcolor": "white",
            "linecolor": "white",
            "ticks": ""
           }
          },
          "scene": {
           "xaxis": {
            "backgroundcolor": "#E5ECF6",
            "gridcolor": "white",
            "gridwidth": 2,
            "linecolor": "white",
            "showbackground": true,
            "ticks": "",
            "zerolinecolor": "white"
           },
           "yaxis": {
            "backgroundcolor": "#E5ECF6",
            "gridcolor": "white",
            "gridwidth": 2,
            "linecolor": "white",
            "showbackground": true,
            "ticks": "",
            "zerolinecolor": "white"
           },
           "zaxis": {
            "backgroundcolor": "#E5ECF6",
            "gridcolor": "white",
            "gridwidth": 2,
            "linecolor": "white",
            "showbackground": true,
            "ticks": "",
            "zerolinecolor": "white"
           }
          },
          "shapedefaults": {
           "line": {
            "color": "#2a3f5f"
           }
          },
          "ternary": {
           "aaxis": {
            "gridcolor": "white",
            "linecolor": "white",
            "ticks": ""
           },
           "baxis": {
            "gridcolor": "white",
            "linecolor": "white",
            "ticks": ""
           },
           "bgcolor": "#E5ECF6",
           "caxis": {
            "gridcolor": "white",
            "linecolor": "white",
            "ticks": ""
           }
          },
          "title": {
           "x": 0.05
          },
          "xaxis": {
           "automargin": true,
           "gridcolor": "white",
           "linecolor": "white",
           "ticks": "",
           "title": {
            "standoff": 15
           },
           "zerolinecolor": "white",
           "zerolinewidth": 2
          },
          "yaxis": {
           "automargin": true,
           "gridcolor": "white",
           "linecolor": "white",
           "ticks": "",
           "title": {
            "standoff": 15
           },
           "zerolinecolor": "white",
           "zerolinewidth": 2
          }
         }
        },
        "xaxis": {
         "anchor": "y",
         "constrain": "domain",
         "domain": [
          0,
          1
         ],
         "scaleanchor": "y",
         "title": {
          "text": "Number of HC"
         }
        },
        "yaxis": {
         "anchor": "x",
         "autorange": "reversed",
         "constrain": "domain",
         "domain": [
          0,
          1
         ],
         "title": {
          "text": "Number of CISF"
         }
        }
       }
      },
      "text/html": [
       "<div>                        <script type=\"text/javascript\">window.PlotlyConfig = {MathJaxConfig: 'local'};</script>\n",
       "        <script charset=\"utf-8\" src=\"https://cdn.plot.ly/plotly-2.34.0.min.js\"></script>                <div id=\"a2066c83-0762-4364-a1cc-c54d137138d1\" class=\"plotly-graph-div\" style=\"height:100%; width:100%;\"></div>            <script type=\"text/javascript\">                                    window.PLOTLYENV=window.PLOTLYENV || {};                                    if (document.getElementById(\"a2066c83-0762-4364-a1cc-c54d137138d1\")) {                    Plotly.newPlot(                        \"a2066c83-0762-4364-a1cc-c54d137138d1\",                        [{\"coloraxis\":\"coloraxis\",\"name\":\"0\",\"x\":[1,2,3,4,5,6,\"nothing\"],\"y\":[1,2,3,4,5,6,7,\"nothing\"],\"z\":[[5671983760.66,5787993610.66,5877723535.66,5966824960.66,6056992885.66,6148101535.66,5671983760.66],[5841368186.2,4934139311.2,5023731911.2,5113731911.2,5209526261.2,5293084886.2,5841368186.2],[5962073419.53,5025918019.53,4869975844.53,4943640094.53,5032905694.53,5123218894.53,5962073419.53],[6030519945.91,5038159545.91,4877202120.91,4767157395.91,4857157395.91,4951983495.91,6071640720.91],[6119242942.16,5094567142.16,4971858817.16,4853680642.16,4839940417.16,4929531967.16,6111743317.16],[6198064438.41,5241097663.41,5088193138.41,4978148413.41,4947869263.41,5008983613.41,6237308038.41],[6341232414.79,5304457389.79,5178492864.79,5035803114.79,5022062889.79,4996344939.79,6351568464.79],[5671983760.66,5761314235.66,5850803635.66,5940585235.66,6030184135.66,6120104935.66,5671983760.66]],\"type\":\"heatmap\",\"xaxis\":\"x\",\"yaxis\":\"y\",\"hovertemplate\":\"Number of HC: %{x}\\u003cbr\\u003eNumber of CISF: %{y}\\u003cbr\\u003eTotal Costs: %{z}\\u003cextra\\u003e\\u003c\\u002fextra\\u003e\"}],                        {\"template\":{\"data\":{\"histogram2dcontour\":[{\"type\":\"histogram2dcontour\",\"colorbar\":{\"outlinewidth\":0,\"ticks\":\"\"},\"colorscale\":[[0.0,\"#0d0887\"],[0.1111111111111111,\"#46039f\"],[0.2222222222222222,\"#7201a8\"],[0.3333333333333333,\"#9c179e\"],[0.4444444444444444,\"#bd3786\"],[0.5555555555555556,\"#d8576b\"],[0.6666666666666666,\"#ed7953\"],[0.7777777777777778,\"#fb9f3a\"],[0.8888888888888888,\"#fdca26\"],[1.0,\"#f0f921\"]]}],\"choropleth\":[{\"type\":\"choropleth\",\"colorbar\":{\"outlinewidth\":0,\"ticks\":\"\"}}],\"histogram2d\":[{\"type\":\"histogram2d\",\"colorbar\":{\"outlinewidth\":0,\"ticks\":\"\"},\"colorscale\":[[0.0,\"#0d0887\"],[0.1111111111111111,\"#46039f\"],[0.2222222222222222,\"#7201a8\"],[0.3333333333333333,\"#9c179e\"],[0.4444444444444444,\"#bd3786\"],[0.5555555555555556,\"#d8576b\"],[0.6666666666666666,\"#ed7953\"],[0.7777777777777778,\"#fb9f3a\"],[0.8888888888888888,\"#fdca26\"],[1.0,\"#f0f921\"]]}],\"heatmap\":[{\"type\":\"heatmap\",\"colorbar\":{\"outlinewidth\":0,\"ticks\":\"\"},\"colorscale\":[[0.0,\"#0d0887\"],[0.1111111111111111,\"#46039f\"],[0.2222222222222222,\"#7201a8\"],[0.3333333333333333,\"#9c179e\"],[0.4444444444444444,\"#bd3786\"],[0.5555555555555556,\"#d8576b\"],[0.6666666666666666,\"#ed7953\"],[0.7777777777777778,\"#fb9f3a\"],[0.8888888888888888,\"#fdca26\"],[1.0,\"#f0f921\"]]}],\"heatmapgl\":[{\"type\":\"heatmapgl\",\"colorbar\":{\"outlinewidth\":0,\"ticks\":\"\"},\"colorscale\":[[0.0,\"#0d0887\"],[0.1111111111111111,\"#46039f\"],[0.2222222222222222,\"#7201a8\"],[0.3333333333333333,\"#9c179e\"],[0.4444444444444444,\"#bd3786\"],[0.5555555555555556,\"#d8576b\"],[0.6666666666666666,\"#ed7953\"],[0.7777777777777778,\"#fb9f3a\"],[0.8888888888888888,\"#fdca26\"],[1.0,\"#f0f921\"]]}],\"contourcarpet\":[{\"type\":\"contourcarpet\",\"colorbar\":{\"outlinewidth\":0,\"ticks\":\"\"}}],\"contour\":[{\"type\":\"contour\",\"colorbar\":{\"outlinewidth\":0,\"ticks\":\"\"},\"colorscale\":[[0.0,\"#0d0887\"],[0.1111111111111111,\"#46039f\"],[0.2222222222222222,\"#7201a8\"],[0.3333333333333333,\"#9c179e\"],[0.4444444444444444,\"#bd3786\"],[0.5555555555555556,\"#d8576b\"],[0.6666666666666666,\"#ed7953\"],[0.7777777777777778,\"#fb9f3a\"],[0.8888888888888888,\"#fdca26\"],[1.0,\"#f0f921\"]]}],\"surface\":[{\"type\":\"surface\",\"colorbar\":{\"outlinewidth\":0,\"ticks\":\"\"},\"colorscale\":[[0.0,\"#0d0887\"],[0.1111111111111111,\"#46039f\"],[0.2222222222222222,\"#7201a8\"],[0.3333333333333333,\"#9c179e\"],[0.4444444444444444,\"#bd3786\"],[0.5555555555555556,\"#d8576b\"],[0.6666666666666666,\"#ed7953\"],[0.7777777777777778,\"#fb9f3a\"],[0.8888888888888888,\"#fdca26\"],[1.0,\"#f0f921\"]]}],\"mesh3d\":[{\"type\":\"mesh3d\",\"colorbar\":{\"outlinewidth\":0,\"ticks\":\"\"}}],\"scatter\":[{\"fillpattern\":{\"fillmode\":\"overlay\",\"size\":10,\"solidity\":0.2},\"type\":\"scatter\"}],\"parcoords\":[{\"type\":\"parcoords\",\"line\":{\"colorbar\":{\"outlinewidth\":0,\"ticks\":\"\"}}}],\"scatterpolargl\":[{\"type\":\"scatterpolargl\",\"marker\":{\"colorbar\":{\"outlinewidth\":0,\"ticks\":\"\"}}}],\"bar\":[{\"error_x\":{\"color\":\"#2a3f5f\"},\"error_y\":{\"color\":\"#2a3f5f\"},\"marker\":{\"line\":{\"color\":\"#E5ECF6\",\"width\":0.5},\"pattern\":{\"fillmode\":\"overlay\",\"size\":10,\"solidity\":0.2}},\"type\":\"bar\"}],\"scattergeo\":[{\"type\":\"scattergeo\",\"marker\":{\"colorbar\":{\"outlinewidth\":0,\"ticks\":\"\"}}}],\"scatterpolar\":[{\"type\":\"scatterpolar\",\"marker\":{\"colorbar\":{\"outlinewidth\":0,\"ticks\":\"\"}}}],\"histogram\":[{\"marker\":{\"pattern\":{\"fillmode\":\"overlay\",\"size\":10,\"solidity\":0.2}},\"type\":\"histogram\"}],\"scattergl\":[{\"type\":\"scattergl\",\"marker\":{\"colorbar\":{\"outlinewidth\":0,\"ticks\":\"\"}}}],\"scatter3d\":[{\"type\":\"scatter3d\",\"line\":{\"colorbar\":{\"outlinewidth\":0,\"ticks\":\"\"}},\"marker\":{\"colorbar\":{\"outlinewidth\":0,\"ticks\":\"\"}}}],\"scattermapbox\":[{\"type\":\"scattermapbox\",\"marker\":{\"colorbar\":{\"outlinewidth\":0,\"ticks\":\"\"}}}],\"scatterternary\":[{\"type\":\"scatterternary\",\"marker\":{\"colorbar\":{\"outlinewidth\":0,\"ticks\":\"\"}}}],\"scattercarpet\":[{\"type\":\"scattercarpet\",\"marker\":{\"colorbar\":{\"outlinewidth\":0,\"ticks\":\"\"}}}],\"carpet\":[{\"aaxis\":{\"endlinecolor\":\"#2a3f5f\",\"gridcolor\":\"white\",\"linecolor\":\"white\",\"minorgridcolor\":\"white\",\"startlinecolor\":\"#2a3f5f\"},\"baxis\":{\"endlinecolor\":\"#2a3f5f\",\"gridcolor\":\"white\",\"linecolor\":\"white\",\"minorgridcolor\":\"white\",\"startlinecolor\":\"#2a3f5f\"},\"type\":\"carpet\"}],\"table\":[{\"cells\":{\"fill\":{\"color\":\"#EBF0F8\"},\"line\":{\"color\":\"white\"}},\"header\":{\"fill\":{\"color\":\"#C8D4E3\"},\"line\":{\"color\":\"white\"}},\"type\":\"table\"}],\"barpolar\":[{\"marker\":{\"line\":{\"color\":\"#E5ECF6\",\"width\":0.5},\"pattern\":{\"fillmode\":\"overlay\",\"size\":10,\"solidity\":0.2}},\"type\":\"barpolar\"}],\"pie\":[{\"automargin\":true,\"type\":\"pie\"}]},\"layout\":{\"autotypenumbers\":\"strict\",\"colorway\":[\"#636efa\",\"#EF553B\",\"#00cc96\",\"#ab63fa\",\"#FFA15A\",\"#19d3f3\",\"#FF6692\",\"#B6E880\",\"#FF97FF\",\"#FECB52\"],\"font\":{\"color\":\"#2a3f5f\"},\"hovermode\":\"closest\",\"hoverlabel\":{\"align\":\"left\"},\"paper_bgcolor\":\"white\",\"plot_bgcolor\":\"#E5ECF6\",\"polar\":{\"bgcolor\":\"#E5ECF6\",\"angularaxis\":{\"gridcolor\":\"white\",\"linecolor\":\"white\",\"ticks\":\"\"},\"radialaxis\":{\"gridcolor\":\"white\",\"linecolor\":\"white\",\"ticks\":\"\"}},\"ternary\":{\"bgcolor\":\"#E5ECF6\",\"aaxis\":{\"gridcolor\":\"white\",\"linecolor\":\"white\",\"ticks\":\"\"},\"baxis\":{\"gridcolor\":\"white\",\"linecolor\":\"white\",\"ticks\":\"\"},\"caxis\":{\"gridcolor\":\"white\",\"linecolor\":\"white\",\"ticks\":\"\"}},\"coloraxis\":{\"colorbar\":{\"outlinewidth\":0,\"ticks\":\"\"}},\"colorscale\":{\"sequential\":[[0.0,\"#0d0887\"],[0.1111111111111111,\"#46039f\"],[0.2222222222222222,\"#7201a8\"],[0.3333333333333333,\"#9c179e\"],[0.4444444444444444,\"#bd3786\"],[0.5555555555555556,\"#d8576b\"],[0.6666666666666666,\"#ed7953\"],[0.7777777777777778,\"#fb9f3a\"],[0.8888888888888888,\"#fdca26\"],[1.0,\"#f0f921\"]],\"sequentialminus\":[[0.0,\"#0d0887\"],[0.1111111111111111,\"#46039f\"],[0.2222222222222222,\"#7201a8\"],[0.3333333333333333,\"#9c179e\"],[0.4444444444444444,\"#bd3786\"],[0.5555555555555556,\"#d8576b\"],[0.6666666666666666,\"#ed7953\"],[0.7777777777777778,\"#fb9f3a\"],[0.8888888888888888,\"#fdca26\"],[1.0,\"#f0f921\"]],\"diverging\":[[0,\"#8e0152\"],[0.1,\"#c51b7d\"],[0.2,\"#de77ae\"],[0.3,\"#f1b6da\"],[0.4,\"#fde0ef\"],[0.5,\"#f7f7f7\"],[0.6,\"#e6f5d0\"],[0.7,\"#b8e186\"],[0.8,\"#7fbc41\"],[0.9,\"#4d9221\"],[1,\"#276419\"]]},\"xaxis\":{\"gridcolor\":\"white\",\"linecolor\":\"white\",\"ticks\":\"\",\"title\":{\"standoff\":15},\"zerolinecolor\":\"white\",\"automargin\":true,\"zerolinewidth\":2},\"yaxis\":{\"gridcolor\":\"white\",\"linecolor\":\"white\",\"ticks\":\"\",\"title\":{\"standoff\":15},\"zerolinecolor\":\"white\",\"automargin\":true,\"zerolinewidth\":2},\"scene\":{\"xaxis\":{\"backgroundcolor\":\"#E5ECF6\",\"gridcolor\":\"white\",\"linecolor\":\"white\",\"showbackground\":true,\"ticks\":\"\",\"zerolinecolor\":\"white\",\"gridwidth\":2},\"yaxis\":{\"backgroundcolor\":\"#E5ECF6\",\"gridcolor\":\"white\",\"linecolor\":\"white\",\"showbackground\":true,\"ticks\":\"\",\"zerolinecolor\":\"white\",\"gridwidth\":2},\"zaxis\":{\"backgroundcolor\":\"#E5ECF6\",\"gridcolor\":\"white\",\"linecolor\":\"white\",\"showbackground\":true,\"ticks\":\"\",\"zerolinecolor\":\"white\",\"gridwidth\":2}},\"shapedefaults\":{\"line\":{\"color\":\"#2a3f5f\"}},\"annotationdefaults\":{\"arrowcolor\":\"#2a3f5f\",\"arrowhead\":0,\"arrowwidth\":1},\"geo\":{\"bgcolor\":\"white\",\"landcolor\":\"#E5ECF6\",\"subunitcolor\":\"white\",\"showland\":true,\"showlakes\":true,\"lakecolor\":\"white\"},\"title\":{\"x\":0.05},\"mapbox\":{\"style\":\"light\"}}},\"xaxis\":{\"anchor\":\"y\",\"domain\":[0.0,1.0],\"scaleanchor\":\"y\",\"constrain\":\"domain\",\"title\":{\"text\":\"Number of HC\"}},\"yaxis\":{\"anchor\":\"x\",\"domain\":[0.0,1.0],\"autorange\":\"reversed\",\"constrain\":\"domain\",\"title\":{\"text\":\"Number of CISF\"}},\"coloraxis\":{\"colorbar\":{\"title\":{\"text\":\"Total Costs\"}},\"colorscale\":[[0.0,\"#440154\"],[0.1111111111111111,\"#482878\"],[0.2222222222222222,\"#3e4989\"],[0.3333333333333333,\"#31688e\"],[0.4444444444444444,\"#26828e\"],[0.5555555555555556,\"#1f9e89\"],[0.6666666666666666,\"#35b779\"],[0.7777777777777778,\"#6ece58\"],[0.8888888888888888,\"#b5de2b\"],[1.0,\"#fde725\"]]},\"margin\":{\"t\":60}},                        {\"responsive\": true}                    )                };                            </script>        </div>"
      ],
      "text/plain": [
       "Figure({\n",
       "    'data': [{'coloraxis': 'coloraxis',\n",
       "              'hovertemplate': 'Number of HC: %{x}<br>Number of CISF: %{y}<br>Total Costs: %{z}<extra></extra>',\n",
       "              'name': '0',\n",
       "              'type': 'heatmap',\n",
       "              'x': array([1, 2, 3, 4, 5, 6, 'nothing'], dtype=object),\n",
       "              'xaxis': 'x',\n",
       "              'y': array([1, 2, 3, 4, 5, 6, 7, 'nothing'], dtype=object),\n",
       "              'yaxis': 'y',\n",
       "              'z': array([[5.67198376e+09, 5.78799361e+09, 5.87772354e+09, 5.96682496e+09,\n",
       "                           6.05699289e+09, 6.14810154e+09, 5.67198376e+09],\n",
       "                          [5.84136819e+09, 4.93413931e+09, 5.02373191e+09, 5.11373191e+09,\n",
       "                           5.20952626e+09, 5.29308489e+09, 5.84136819e+09],\n",
       "                          [5.96207342e+09, 5.02591802e+09, 4.86997584e+09, 4.94364009e+09,\n",
       "                           5.03290569e+09, 5.12321889e+09, 5.96207342e+09],\n",
       "                          [6.03051995e+09, 5.03815955e+09, 4.87720212e+09, 4.76715740e+09,\n",
       "                           4.85715740e+09, 4.95198350e+09, 6.07164072e+09],\n",
       "                          [6.11924294e+09, 5.09456714e+09, 4.97185882e+09, 4.85368064e+09,\n",
       "                           4.83994042e+09, 4.92953197e+09, 6.11174332e+09],\n",
       "                          [6.19806444e+09, 5.24109766e+09, 5.08819314e+09, 4.97814841e+09,\n",
       "                           4.94786926e+09, 5.00898361e+09, 6.23730804e+09],\n",
       "                          [6.34123241e+09, 5.30445739e+09, 5.17849286e+09, 5.03580311e+09,\n",
       "                           5.02206289e+09, 4.99634494e+09, 6.35156846e+09],\n",
       "                          [5.67198376e+09, 5.76131424e+09, 5.85080364e+09, 5.94058524e+09,\n",
       "                           6.03018414e+09, 6.12010494e+09, 5.67198376e+09]])}],\n",
       "    'layout': {'coloraxis': {'colorbar': {'title': {'text': 'Total Costs'}},\n",
       "                             'colorscale': [[0.0, '#440154'], [0.1111111111111111,\n",
       "                                            '#482878'], [0.2222222222222222,\n",
       "                                            '#3e4989'], [0.3333333333333333,\n",
       "                                            '#31688e'], [0.4444444444444444,\n",
       "                                            '#26828e'], [0.5555555555555556,\n",
       "                                            '#1f9e89'], [0.6666666666666666,\n",
       "                                            '#35b779'], [0.7777777777777778,\n",
       "                                            '#6ece58'], [0.8888888888888888,\n",
       "                                            '#b5de2b'], [1.0, '#fde725']]},\n",
       "               'margin': {'t': 60},\n",
       "               'template': '...',\n",
       "               'xaxis': {'anchor': 'y',\n",
       "                         'constrain': 'domain',\n",
       "                         'domain': [0.0, 1.0],\n",
       "                         'scaleanchor': 'y',\n",
       "                         'title': {'text': 'Number of HC'}},\n",
       "               'yaxis': {'anchor': 'x',\n",
       "                         'autorange': 'reversed',\n",
       "                         'constrain': 'domain',\n",
       "                         'domain': [0.0, 1.0],\n",
       "                         'title': {'text': 'Number of CISF'}}}\n",
       "})"
      ]
     },
     "execution_count": 60,
     "metadata": {},
     "output_type": "execute_result"
    }
   ],
   "source": [
    "# Pivot the data to create a matrix format suitable for imshow\n",
    "heatmap_data = df.pivot(index=\"n_cisf\", columns=\"n_hc\", values=\"total_costs\")\n",
    "# Create heatmap with Plotly Express\n",
    "px.imshow(heatmap_data, labels={'x': 'Number of HC', 'y': 'Number of CISF', 'color': 'Total Costs'},\n",
    "                color_continuous_scale='Viridis')\n"
   ]
  },
  {
   "cell_type": "code",
   "execution_count": null,
   "metadata": {},
   "outputs": [
    {
     "ename": "NameError",
     "evalue": "name 'total_hc_construction_cost' is not defined",
     "output_type": "error",
     "traceback": [
      "\u001b[0;31m---------------------------------------------------------------------------\u001b[0m",
      "\u001b[0;31mNameError\u001b[0m                                 Traceback (most recent call last)",
      "Cell \u001b[0;32mIn[61], line 15\u001b[0m\n\u001b[1;32m      3\u001b[0m rows\u001b[38;5;241m.\u001b[39mappend({\n\u001b[1;32m      4\u001b[0m     \u001b[38;5;124m\"\u001b[39m\u001b[38;5;124mcost_center\u001b[39m\u001b[38;5;124m\"\u001b[39m: \u001b[38;5;124m\"\u001b[39m\u001b[38;5;124mtransport\u001b[39m\u001b[38;5;124m\"\u001b[39m,\n\u001b[1;32m      5\u001b[0m     \u001b[38;5;124m\"\u001b[39m\u001b[38;5;124mamount\u001b[39m\u001b[38;5;124m\"\u001b[39m: total_transport_costs\n\u001b[1;32m      6\u001b[0m })\n\u001b[1;32m      8\u001b[0m rows\u001b[38;5;241m.\u001b[39mappend({\n\u001b[1;32m      9\u001b[0m     \u001b[38;5;124m\"\u001b[39m\u001b[38;5;124mcost_center\u001b[39m\u001b[38;5;124m\"\u001b[39m: \u001b[38;5;124m\"\u001b[39m\u001b[38;5;124mcisf\u001b[39m\u001b[38;5;124m\"\u001b[39m,\n\u001b[1;32m     10\u001b[0m     \u001b[38;5;124m\"\u001b[39m\u001b[38;5;124mamount\u001b[39m\u001b[38;5;124m\"\u001b[39m: total_cisf_construction_costs\n\u001b[1;32m     11\u001b[0m })\n\u001b[1;32m     13\u001b[0m rows\u001b[38;5;241m.\u001b[39mappend({\n\u001b[1;32m     14\u001b[0m     \u001b[38;5;124m\"\u001b[39m\u001b[38;5;124mcost_center\u001b[39m\u001b[38;5;124m\"\u001b[39m: \u001b[38;5;124m\"\u001b[39m\u001b[38;5;124mhc_construction\u001b[39m\u001b[38;5;124m\"\u001b[39m,\n\u001b[0;32m---> 15\u001b[0m     \u001b[38;5;124m\"\u001b[39m\u001b[38;5;124mamount\u001b[39m\u001b[38;5;124m\"\u001b[39m: \u001b[43mtotal_hc_construction_cost\u001b[49m\n\u001b[1;32m     16\u001b[0m })\n\u001b[1;32m     18\u001b[0m rows\u001b[38;5;241m.\u001b[39mappend({\n\u001b[1;32m     19\u001b[0m     \u001b[38;5;124m\"\u001b[39m\u001b[38;5;124mcost_center\u001b[39m\u001b[38;5;124m\"\u001b[39m: \u001b[38;5;124m\"\u001b[39m\u001b[38;5;124mhc_processing\u001b[39m\u001b[38;5;124m\"\u001b[39m,\n\u001b[1;32m     20\u001b[0m     \u001b[38;5;124m\"\u001b[39m\u001b[38;5;124mamount\u001b[39m\u001b[38;5;124m\"\u001b[39m: total_processing_costs\n\u001b[1;32m     21\u001b[0m })\n\u001b[1;32m     23\u001b[0m costs \u001b[38;5;241m=\u001b[39m pd\u001b[38;5;241m.\u001b[39mDataFrame(rows)\n",
      "\u001b[0;31mNameError\u001b[0m: name 'total_hc_construction_cost' is not defined"
     ]
    }
   ],
   "source": [
    "rows = []\n",
    "\n",
    "rows.append({\n",
    "    \"cost_center\": \"transport\",\n",
    "    \"amount\": total_transport_costs\n",
    "})\n",
    "\n",
    "rows.append({\n",
    "    \"cost_center\": \"cisf\",\n",
    "    \"amount\": total_cisf_construction_costs\n",
    "})\n",
    "\n",
    "rows.append({\n",
    "    \"cost_center\": \"hc_construction\",\n",
    "    \"amount\": total_hc_construction_cost\n",
    "})\n",
    "\n",
    "rows.append({\n",
    "    \"cost_center\": \"hc_processing\",\n",
    "    \"amount\": total_processing_costs\n",
    "})\n",
    "\n",
    "costs = pd.DataFrame(rows)"
   ]
  },
  {
   "cell_type": "code",
   "execution_count": null,
   "metadata": {},
   "outputs": [
    {
     "data": {
      "application/vnd.plotly.v1+json": {
       "config": {
        "plotlyServerURL": "https://plot.ly"
       },
       "data": [
        {
         "alignmentgroup": "True",
         "hovertemplate": "Cost center=%{x}<br>Amount [EUR]=%{y}<extra></extra>",
         "legendgroup": "",
         "marker": {
          "color": "rgb(76,114,176)",
          "pattern": {
           "shape": ""
          }
         },
         "name": "",
         "offsetgroup": "",
         "orientation": "v",
         "showlegend": false,
         "textposition": "auto",
         "type": "bar",
         "x": [
          "transport",
          "cisf",
          "hc_construction",
          "hc_processing"
         ],
         "xaxis": "x",
         "y": [
          930840525,
          428533294.53,
          3000000,
          2150000000
         ],
         "yaxis": "y"
        }
       ],
       "layout": {
        "barmode": "relative",
        "legend": {
         "tracegroupgap": 0
        },
        "margin": {
         "t": 60
        },
        "template": {
         "data": {
          "bar": [
           {
            "error_x": {
             "color": "rgb(36,36,36)"
            },
            "error_y": {
             "color": "rgb(36,36,36)"
            },
            "marker": {
             "line": {
              "color": "rgb(234,234,242)",
              "width": 0.5
             },
             "pattern": {
              "fillmode": "overlay",
              "size": 10,
              "solidity": 0.2
             }
            },
            "type": "bar"
           }
          ],
          "barpolar": [
           {
            "marker": {
             "line": {
              "color": "rgb(234,234,242)",
              "width": 0.5
             },
             "pattern": {
              "fillmode": "overlay",
              "size": 10,
              "solidity": 0.2
             }
            },
            "type": "barpolar"
           }
          ],
          "carpet": [
           {
            "aaxis": {
             "endlinecolor": "rgb(36,36,36)",
             "gridcolor": "white",
             "linecolor": "white",
             "minorgridcolor": "white",
             "startlinecolor": "rgb(36,36,36)"
            },
            "baxis": {
             "endlinecolor": "rgb(36,36,36)",
             "gridcolor": "white",
             "linecolor": "white",
             "minorgridcolor": "white",
             "startlinecolor": "rgb(36,36,36)"
            },
            "type": "carpet"
           }
          ],
          "choropleth": [
           {
            "colorbar": {
             "outlinewidth": 0,
             "tickcolor": "rgb(36,36,36)",
             "ticklen": 8,
             "ticks": "outside",
             "tickwidth": 2
            },
            "type": "choropleth"
           }
          ],
          "contour": [
           {
            "colorbar": {
             "outlinewidth": 0,
             "tickcolor": "rgb(36,36,36)",
             "ticklen": 8,
             "ticks": "outside",
             "tickwidth": 2
            },
            "colorscale": [
             [
              0,
              "rgb(2,4,25)"
             ],
             [
              0.06274509803921569,
              "rgb(24,15,41)"
             ],
             [
              0.12549019607843137,
              "rgb(47,23,57)"
             ],
             [
              0.18823529411764706,
              "rgb(71,28,72)"
             ],
             [
              0.25098039215686274,
              "rgb(97,30,82)"
             ],
             [
              0.3137254901960784,
              "rgb(123,30,89)"
             ],
             [
              0.3764705882352941,
              "rgb(150,27,91)"
             ],
             [
              0.4392156862745098,
              "rgb(177,22,88)"
             ],
             [
              0.5019607843137255,
              "rgb(203,26,79)"
             ],
             [
              0.5647058823529412,
              "rgb(223,47,67)"
             ],
             [
              0.6274509803921569,
              "rgb(236,76,61)"
             ],
             [
              0.6901960784313725,
              "rgb(242,107,73)"
             ],
             [
              0.7529411764705882,
              "rgb(244,135,95)"
             ],
             [
              0.8156862745098039,
              "rgb(245,162,122)"
             ],
             [
              0.8784313725490196,
              "rgb(246,188,153)"
             ],
             [
              0.9411764705882353,
              "rgb(247,212,187)"
             ],
             [
              1,
              "rgb(250,234,220)"
             ]
            ],
            "type": "contour"
           }
          ],
          "contourcarpet": [
           {
            "colorbar": {
             "outlinewidth": 0,
             "tickcolor": "rgb(36,36,36)",
             "ticklen": 8,
             "ticks": "outside",
             "tickwidth": 2
            },
            "type": "contourcarpet"
           }
          ],
          "heatmap": [
           {
            "colorbar": {
             "outlinewidth": 0,
             "tickcolor": "rgb(36,36,36)",
             "ticklen": 8,
             "ticks": "outside",
             "tickwidth": 2
            },
            "colorscale": [
             [
              0,
              "rgb(2,4,25)"
             ],
             [
              0.06274509803921569,
              "rgb(24,15,41)"
             ],
             [
              0.12549019607843137,
              "rgb(47,23,57)"
             ],
             [
              0.18823529411764706,
              "rgb(71,28,72)"
             ],
             [
              0.25098039215686274,
              "rgb(97,30,82)"
             ],
             [
              0.3137254901960784,
              "rgb(123,30,89)"
             ],
             [
              0.3764705882352941,
              "rgb(150,27,91)"
             ],
             [
              0.4392156862745098,
              "rgb(177,22,88)"
             ],
             [
              0.5019607843137255,
              "rgb(203,26,79)"
             ],
             [
              0.5647058823529412,
              "rgb(223,47,67)"
             ],
             [
              0.6274509803921569,
              "rgb(236,76,61)"
             ],
             [
              0.6901960784313725,
              "rgb(242,107,73)"
             ],
             [
              0.7529411764705882,
              "rgb(244,135,95)"
             ],
             [
              0.8156862745098039,
              "rgb(245,162,122)"
             ],
             [
              0.8784313725490196,
              "rgb(246,188,153)"
             ],
             [
              0.9411764705882353,
              "rgb(247,212,187)"
             ],
             [
              1,
              "rgb(250,234,220)"
             ]
            ],
            "type": "heatmap"
           }
          ],
          "heatmapgl": [
           {
            "colorbar": {
             "outlinewidth": 0,
             "tickcolor": "rgb(36,36,36)",
             "ticklen": 8,
             "ticks": "outside",
             "tickwidth": 2
            },
            "colorscale": [
             [
              0,
              "rgb(2,4,25)"
             ],
             [
              0.06274509803921569,
              "rgb(24,15,41)"
             ],
             [
              0.12549019607843137,
              "rgb(47,23,57)"
             ],
             [
              0.18823529411764706,
              "rgb(71,28,72)"
             ],
             [
              0.25098039215686274,
              "rgb(97,30,82)"
             ],
             [
              0.3137254901960784,
              "rgb(123,30,89)"
             ],
             [
              0.3764705882352941,
              "rgb(150,27,91)"
             ],
             [
              0.4392156862745098,
              "rgb(177,22,88)"
             ],
             [
              0.5019607843137255,
              "rgb(203,26,79)"
             ],
             [
              0.5647058823529412,
              "rgb(223,47,67)"
             ],
             [
              0.6274509803921569,
              "rgb(236,76,61)"
             ],
             [
              0.6901960784313725,
              "rgb(242,107,73)"
             ],
             [
              0.7529411764705882,
              "rgb(244,135,95)"
             ],
             [
              0.8156862745098039,
              "rgb(245,162,122)"
             ],
             [
              0.8784313725490196,
              "rgb(246,188,153)"
             ],
             [
              0.9411764705882353,
              "rgb(247,212,187)"
             ],
             [
              1,
              "rgb(250,234,220)"
             ]
            ],
            "type": "heatmapgl"
           }
          ],
          "histogram": [
           {
            "marker": {
             "pattern": {
              "fillmode": "overlay",
              "size": 10,
              "solidity": 0.2
             }
            },
            "type": "histogram"
           }
          ],
          "histogram2d": [
           {
            "colorbar": {
             "outlinewidth": 0,
             "tickcolor": "rgb(36,36,36)",
             "ticklen": 8,
             "ticks": "outside",
             "tickwidth": 2
            },
            "colorscale": [
             [
              0,
              "rgb(2,4,25)"
             ],
             [
              0.06274509803921569,
              "rgb(24,15,41)"
             ],
             [
              0.12549019607843137,
              "rgb(47,23,57)"
             ],
             [
              0.18823529411764706,
              "rgb(71,28,72)"
             ],
             [
              0.25098039215686274,
              "rgb(97,30,82)"
             ],
             [
              0.3137254901960784,
              "rgb(123,30,89)"
             ],
             [
              0.3764705882352941,
              "rgb(150,27,91)"
             ],
             [
              0.4392156862745098,
              "rgb(177,22,88)"
             ],
             [
              0.5019607843137255,
              "rgb(203,26,79)"
             ],
             [
              0.5647058823529412,
              "rgb(223,47,67)"
             ],
             [
              0.6274509803921569,
              "rgb(236,76,61)"
             ],
             [
              0.6901960784313725,
              "rgb(242,107,73)"
             ],
             [
              0.7529411764705882,
              "rgb(244,135,95)"
             ],
             [
              0.8156862745098039,
              "rgb(245,162,122)"
             ],
             [
              0.8784313725490196,
              "rgb(246,188,153)"
             ],
             [
              0.9411764705882353,
              "rgb(247,212,187)"
             ],
             [
              1,
              "rgb(250,234,220)"
             ]
            ],
            "type": "histogram2d"
           }
          ],
          "histogram2dcontour": [
           {
            "colorbar": {
             "outlinewidth": 0,
             "tickcolor": "rgb(36,36,36)",
             "ticklen": 8,
             "ticks": "outside",
             "tickwidth": 2
            },
            "colorscale": [
             [
              0,
              "rgb(2,4,25)"
             ],
             [
              0.06274509803921569,
              "rgb(24,15,41)"
             ],
             [
              0.12549019607843137,
              "rgb(47,23,57)"
             ],
             [
              0.18823529411764706,
              "rgb(71,28,72)"
             ],
             [
              0.25098039215686274,
              "rgb(97,30,82)"
             ],
             [
              0.3137254901960784,
              "rgb(123,30,89)"
             ],
             [
              0.3764705882352941,
              "rgb(150,27,91)"
             ],
             [
              0.4392156862745098,
              "rgb(177,22,88)"
             ],
             [
              0.5019607843137255,
              "rgb(203,26,79)"
             ],
             [
              0.5647058823529412,
              "rgb(223,47,67)"
             ],
             [
              0.6274509803921569,
              "rgb(236,76,61)"
             ],
             [
              0.6901960784313725,
              "rgb(242,107,73)"
             ],
             [
              0.7529411764705882,
              "rgb(244,135,95)"
             ],
             [
              0.8156862745098039,
              "rgb(245,162,122)"
             ],
             [
              0.8784313725490196,
              "rgb(246,188,153)"
             ],
             [
              0.9411764705882353,
              "rgb(247,212,187)"
             ],
             [
              1,
              "rgb(250,234,220)"
             ]
            ],
            "type": "histogram2dcontour"
           }
          ],
          "mesh3d": [
           {
            "colorbar": {
             "outlinewidth": 0,
             "tickcolor": "rgb(36,36,36)",
             "ticklen": 8,
             "ticks": "outside",
             "tickwidth": 2
            },
            "type": "mesh3d"
           }
          ],
          "parcoords": [
           {
            "line": {
             "colorbar": {
              "outlinewidth": 0,
              "tickcolor": "rgb(36,36,36)",
              "ticklen": 8,
              "ticks": "outside",
              "tickwidth": 2
             }
            },
            "type": "parcoords"
           }
          ],
          "pie": [
           {
            "automargin": true,
            "type": "pie"
           }
          ],
          "scatter": [
           {
            "fillpattern": {
             "fillmode": "overlay",
             "size": 10,
             "solidity": 0.2
            },
            "type": "scatter"
           }
          ],
          "scatter3d": [
           {
            "line": {
             "colorbar": {
              "outlinewidth": 0,
              "tickcolor": "rgb(36,36,36)",
              "ticklen": 8,
              "ticks": "outside",
              "tickwidth": 2
             }
            },
            "marker": {
             "colorbar": {
              "outlinewidth": 0,
              "tickcolor": "rgb(36,36,36)",
              "ticklen": 8,
              "ticks": "outside",
              "tickwidth": 2
             }
            },
            "type": "scatter3d"
           }
          ],
          "scattercarpet": [
           {
            "marker": {
             "colorbar": {
              "outlinewidth": 0,
              "tickcolor": "rgb(36,36,36)",
              "ticklen": 8,
              "ticks": "outside",
              "tickwidth": 2
             }
            },
            "type": "scattercarpet"
           }
          ],
          "scattergeo": [
           {
            "marker": {
             "colorbar": {
              "outlinewidth": 0,
              "tickcolor": "rgb(36,36,36)",
              "ticklen": 8,
              "ticks": "outside",
              "tickwidth": 2
             }
            },
            "type": "scattergeo"
           }
          ],
          "scattergl": [
           {
            "marker": {
             "colorbar": {
              "outlinewidth": 0,
              "tickcolor": "rgb(36,36,36)",
              "ticklen": 8,
              "ticks": "outside",
              "tickwidth": 2
             }
            },
            "type": "scattergl"
           }
          ],
          "scattermapbox": [
           {
            "marker": {
             "colorbar": {
              "outlinewidth": 0,
              "tickcolor": "rgb(36,36,36)",
              "ticklen": 8,
              "ticks": "outside",
              "tickwidth": 2
             }
            },
            "type": "scattermapbox"
           }
          ],
          "scatterpolar": [
           {
            "marker": {
             "colorbar": {
              "outlinewidth": 0,
              "tickcolor": "rgb(36,36,36)",
              "ticklen": 8,
              "ticks": "outside",
              "tickwidth": 2
             }
            },
            "type": "scatterpolar"
           }
          ],
          "scatterpolargl": [
           {
            "marker": {
             "colorbar": {
              "outlinewidth": 0,
              "tickcolor": "rgb(36,36,36)",
              "ticklen": 8,
              "ticks": "outside",
              "tickwidth": 2
             }
            },
            "type": "scatterpolargl"
           }
          ],
          "scatterternary": [
           {
            "marker": {
             "colorbar": {
              "outlinewidth": 0,
              "tickcolor": "rgb(36,36,36)",
              "ticklen": 8,
              "ticks": "outside",
              "tickwidth": 2
             }
            },
            "type": "scatterternary"
           }
          ],
          "surface": [
           {
            "colorbar": {
             "outlinewidth": 0,
             "tickcolor": "rgb(36,36,36)",
             "ticklen": 8,
             "ticks": "outside",
             "tickwidth": 2
            },
            "colorscale": [
             [
              0,
              "rgb(2,4,25)"
             ],
             [
              0.06274509803921569,
              "rgb(24,15,41)"
             ],
             [
              0.12549019607843137,
              "rgb(47,23,57)"
             ],
             [
              0.18823529411764706,
              "rgb(71,28,72)"
             ],
             [
              0.25098039215686274,
              "rgb(97,30,82)"
             ],
             [
              0.3137254901960784,
              "rgb(123,30,89)"
             ],
             [
              0.3764705882352941,
              "rgb(150,27,91)"
             ],
             [
              0.4392156862745098,
              "rgb(177,22,88)"
             ],
             [
              0.5019607843137255,
              "rgb(203,26,79)"
             ],
             [
              0.5647058823529412,
              "rgb(223,47,67)"
             ],
             [
              0.6274509803921569,
              "rgb(236,76,61)"
             ],
             [
              0.6901960784313725,
              "rgb(242,107,73)"
             ],
             [
              0.7529411764705882,
              "rgb(244,135,95)"
             ],
             [
              0.8156862745098039,
              "rgb(245,162,122)"
             ],
             [
              0.8784313725490196,
              "rgb(246,188,153)"
             ],
             [
              0.9411764705882353,
              "rgb(247,212,187)"
             ],
             [
              1,
              "rgb(250,234,220)"
             ]
            ],
            "type": "surface"
           }
          ],
          "table": [
           {
            "cells": {
             "fill": {
              "color": "rgb(231,231,240)"
             },
             "line": {
              "color": "white"
             }
            },
            "header": {
             "fill": {
              "color": "rgb(183,183,191)"
             },
             "line": {
              "color": "white"
             }
            },
            "type": "table"
           }
          ]
         },
         "layout": {
          "annotationdefaults": {
           "arrowcolor": "rgb(67,103,167)"
          },
          "autotypenumbers": "strict",
          "coloraxis": {
           "colorbar": {
            "outlinewidth": 0,
            "tickcolor": "rgb(36,36,36)",
            "ticklen": 8,
            "ticks": "outside",
            "tickwidth": 2
           }
          },
          "colorscale": {
           "sequential": [
            [
             0,
             "rgb(2,4,25)"
            ],
            [
             0.06274509803921569,
             "rgb(24,15,41)"
            ],
            [
             0.12549019607843137,
             "rgb(47,23,57)"
            ],
            [
             0.18823529411764706,
             "rgb(71,28,72)"
            ],
            [
             0.25098039215686274,
             "rgb(97,30,82)"
            ],
            [
             0.3137254901960784,
             "rgb(123,30,89)"
            ],
            [
             0.3764705882352941,
             "rgb(150,27,91)"
            ],
            [
             0.4392156862745098,
             "rgb(177,22,88)"
            ],
            [
             0.5019607843137255,
             "rgb(203,26,79)"
            ],
            [
             0.5647058823529412,
             "rgb(223,47,67)"
            ],
            [
             0.6274509803921569,
             "rgb(236,76,61)"
            ],
            [
             0.6901960784313725,
             "rgb(242,107,73)"
            ],
            [
             0.7529411764705882,
             "rgb(244,135,95)"
            ],
            [
             0.8156862745098039,
             "rgb(245,162,122)"
            ],
            [
             0.8784313725490196,
             "rgb(246,188,153)"
            ],
            [
             0.9411764705882353,
             "rgb(247,212,187)"
            ],
            [
             1,
             "rgb(250,234,220)"
            ]
           ],
           "sequentialminus": [
            [
             0,
             "rgb(2,4,25)"
            ],
            [
             0.06274509803921569,
             "rgb(24,15,41)"
            ],
            [
             0.12549019607843137,
             "rgb(47,23,57)"
            ],
            [
             0.18823529411764706,
             "rgb(71,28,72)"
            ],
            [
             0.25098039215686274,
             "rgb(97,30,82)"
            ],
            [
             0.3137254901960784,
             "rgb(123,30,89)"
            ],
            [
             0.3764705882352941,
             "rgb(150,27,91)"
            ],
            [
             0.4392156862745098,
             "rgb(177,22,88)"
            ],
            [
             0.5019607843137255,
             "rgb(203,26,79)"
            ],
            [
             0.5647058823529412,
             "rgb(223,47,67)"
            ],
            [
             0.6274509803921569,
             "rgb(236,76,61)"
            ],
            [
             0.6901960784313725,
             "rgb(242,107,73)"
            ],
            [
             0.7529411764705882,
             "rgb(244,135,95)"
            ],
            [
             0.8156862745098039,
             "rgb(245,162,122)"
            ],
            [
             0.8784313725490196,
             "rgb(246,188,153)"
            ],
            [
             0.9411764705882353,
             "rgb(247,212,187)"
            ],
            [
             1,
             "rgb(250,234,220)"
            ]
           ]
          },
          "colorway": [
           "rgb(76,114,176)",
           "rgb(221,132,82)",
           "rgb(85,168,104)",
           "rgb(196,78,82)",
           "rgb(129,114,179)",
           "rgb(147,120,96)",
           "rgb(218,139,195)",
           "rgb(140,140,140)",
           "rgb(204,185,116)",
           "rgb(100,181,205)"
          ],
          "font": {
           "color": "rgb(36,36,36)"
          },
          "geo": {
           "bgcolor": "white",
           "lakecolor": "white",
           "landcolor": "rgb(234,234,242)",
           "showlakes": true,
           "showland": true,
           "subunitcolor": "white"
          },
          "hoverlabel": {
           "align": "left"
          },
          "hovermode": "closest",
          "paper_bgcolor": "white",
          "plot_bgcolor": "rgb(234,234,242)",
          "polar": {
           "angularaxis": {
            "gridcolor": "white",
            "linecolor": "white",
            "showgrid": true,
            "ticks": ""
           },
           "bgcolor": "rgb(234,234,242)",
           "radialaxis": {
            "gridcolor": "white",
            "linecolor": "white",
            "showgrid": true,
            "ticks": ""
           }
          },
          "scene": {
           "xaxis": {
            "backgroundcolor": "rgb(234,234,242)",
            "gridcolor": "white",
            "gridwidth": 2,
            "linecolor": "white",
            "showbackground": true,
            "showgrid": true,
            "ticks": "",
            "zerolinecolor": "white"
           },
           "yaxis": {
            "backgroundcolor": "rgb(234,234,242)",
            "gridcolor": "white",
            "gridwidth": 2,
            "linecolor": "white",
            "showbackground": true,
            "showgrid": true,
            "ticks": "",
            "zerolinecolor": "white"
           },
           "zaxis": {
            "backgroundcolor": "rgb(234,234,242)",
            "gridcolor": "white",
            "gridwidth": 2,
            "linecolor": "white",
            "showbackground": true,
            "showgrid": true,
            "ticks": "",
            "zerolinecolor": "white"
           }
          },
          "shapedefaults": {
           "fillcolor": "rgb(67,103,167)",
           "line": {
            "width": 0
           },
           "opacity": 0.5
          },
          "ternary": {
           "aaxis": {
            "gridcolor": "white",
            "linecolor": "white",
            "showgrid": true,
            "ticks": ""
           },
           "baxis": {
            "gridcolor": "white",
            "linecolor": "white",
            "showgrid": true,
            "ticks": ""
           },
           "bgcolor": "rgb(234,234,242)",
           "caxis": {
            "gridcolor": "white",
            "linecolor": "white",
            "showgrid": true,
            "ticks": ""
           }
          },
          "xaxis": {
           "automargin": true,
           "gridcolor": "white",
           "linecolor": "white",
           "showgrid": true,
           "ticks": "",
           "title": {
            "standoff": 15
           },
           "zerolinecolor": "white"
          },
          "yaxis": {
           "automargin": true,
           "gridcolor": "white",
           "linecolor": "white",
           "showgrid": true,
           "ticks": "",
           "title": {
            "standoff": 15
           },
           "zerolinecolor": "white"
          }
         }
        },
        "xaxis": {
         "anchor": "y",
         "domain": [
          0,
          1
         ],
         "title": {
          "text": "Cost center"
         }
        },
        "yaxis": {
         "anchor": "x",
         "domain": [
          0,
          1
         ],
         "title": {
          "text": "Amount [EUR]"
         }
        }
       }
      }
     },
     "metadata": {},
     "output_type": "display_data"
    }
   ],
   "source": [
    "px.bar(costs,\n",
    "       x=\"cost_center\",\n",
    "       y=\"amount\",\n",
    "       template=\"seaborn\",\n",
    "       labels={\"cost_center\": \"Cost center\",\n",
    "               \"amount\": \"Amount [EUR]\"})"
   ]
  }
 ],
 "metadata": {
  "kernelspec": {
   "display_name": "Python 3",
   "language": "python",
   "name": "python3"
  },
  "language_info": {
   "codemirror_mode": {
    "name": "ipython",
    "version": 3
   },
   "file_extension": ".py",
   "mimetype": "text/x-python",
   "name": "python",
   "nbconvert_exporter": "python",
   "pygments_lexer": "ipython3",
   "version": "3.12.2"
  }
 },
 "nbformat": 4,
 "nbformat_minor": 2
}
